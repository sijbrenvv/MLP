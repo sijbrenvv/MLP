{
 "cells": [
  {
   "cell_type": "code",
   "execution_count": 45,
   "id": "d169ffda",
   "metadata": {},
   "outputs": [],
   "source": [
    "#!pip install emoji\n",
    "#!pip install spacy\n",
    "import pandas as pd\n",
    "import numpy as np\n",
    "import emoji\n",
    "import regex\n",
    "import nltk\n",
    "import re\n",
    "import sklearn\n",
    "import string\n",
    "import spacy\n",
    "from collections import Counter"
   ]
  },
  {
   "cell_type": "code",
   "execution_count": 46,
   "id": "0bd0bcb4",
   "metadata": {},
   "outputs": [
    {
     "name": "stdout",
     "output_type": "stream",
     "text": [
      "392446\n"
     ]
    }
   ],
   "source": [
    "df = pd.read_csv('data2021.csv')\n",
    "print(len(df))\n",
    "df = df.drop_duplicates(subset=['user_id']) # remove duplicates"
   ]
  },
  {
   "cell_type": "code",
   "execution_count": 47,
   "id": "e4238922",
   "metadata": {},
   "outputs": [],
   "source": [
    "df.dropna(subset=['user_description'], inplace=True) # remove NaN values"
   ]
  },
  {
   "cell_type": "code",
   "execution_count": 48,
   "id": "cae119fc",
   "metadata": {},
   "outputs": [
    {
     "data": {
      "text/plain": [
       "1         Wiskunde lover, honden freak. 🇮🇱🇹🇭🏁🇩🇪🇭🇺🇳🇱🇷🇸🇸🇽🇸...\n",
       "2         IT ICT IoT || •AgriFoodTech •Biobased •Circula...\n",
       "6         Leesbaar, kroniek van gebeurtenissen in Amsterdam\n",
       "7         Mijn #TOTELTUIN ++ #Noseflutejob ++ Bach on th...\n",
       "8         Columnist https://t.co/eX0BHLeWH2. Boosdrietig...\n",
       "                                ...                        \n",
       "392401    Je suis un 🤖 veillant sur la qualité de l'air ...\n",
       "392414    Voor het meest uitgebreide zakelijke nieuws be...\n",
       "392416    Uitgeverij Historische Verhalen publiceert kor...\n",
       "392422    Dutch,Jewish,single,had a great friend for lif...\n",
       "392442     Gitarist (klassiek) 🎸🎼🎵🎶 en 🖥️🗃️🛠️ 😎 IT-Goeroe 😎\n",
       "Name: user_description, Length: 92363, dtype: object"
      ]
     },
     "execution_count": 48,
     "metadata": {},
     "output_type": "execute_result"
    }
   ],
   "source": [
    "df['user_description']"
   ]
  },
  {
   "cell_type": "code",
   "execution_count": 49,
   "id": "284afcad",
   "metadata": {},
   "outputs": [],
   "source": [
    "def give_emoji_free_text(text):\n",
    "    \"\"\"\n",
    "    Removes emoji's from tweets\n",
    "    Accepts:\n",
    "        Text (tweets)\n",
    "    Returns:\n",
    "        Text (emoji free tweets)\n",
    "    \"\"\"\n",
    "    emoji_list = [c for c in text if c in emoji.EMOJI_DATA]\n",
    "    clean_text = ' '.join([str for str in text.split() if not any(i in str for i in emoji_list)])\n",
    "    return clean_text\n",
    "\n",
    "def url_free_text(text):\n",
    "    '''\n",
    "    Cleans text from urls\n",
    "    '''\n",
    "    text = re.sub(r'http\\S+', '', text)\n",
    "    return text\n",
    "\n",
    "# Apply the function above and get tweets free of emoji's\n",
    "call_emoji_free = lambda x: give_emoji_free_text(x)\n",
    "\n",
    "# Apply `call_emoji_free` which calls the function to remove all emoji's\n",
    "df['emoji_free_tweets'] = df['user_description'].apply(call_emoji_free)\n",
    "\n",
    "#Create a new column with url free tweets\n",
    "df['url_free_tweets'] = df['emoji_free_tweets'].apply(url_free_text)"
   ]
  },
  {
   "cell_type": "code",
   "execution_count": 50,
   "id": "333e32ff",
   "metadata": {},
   "outputs": [
    {
     "data": {
      "text/plain": [
       "1                             Wiskunde lover, honden freak.\n",
       "2         IT ICT IoT || •AgriFoodTech •Biobased •Circula...\n",
       "6         Leesbaar, kroniek van gebeurtenissen in Amsterdam\n",
       "7         Mijn #TOTELTUIN ++ #Noseflutejob ++ Bach on th...\n",
       "8         Columnist  Boosdrietig vanwege een tweet? Jamm...\n",
       "                                ...                        \n",
       "392401    Je suis un veillant sur la qualité de l'air qu...\n",
       "392414    Voor het meest uitgebreide zakelijke nieuws be...\n",
       "392416    Uitgeverij Historische Verhalen publiceert kor...\n",
       "392422    Dutch,Jewish,single,had a great friend for lif...\n",
       "392442                     Gitarist (klassiek) en IT-Goeroe\n",
       "Name: url_free_tweets, Length: 92363, dtype: object"
      ]
     },
     "execution_count": 50,
     "metadata": {},
     "output_type": "execute_result"
    }
   ],
   "source": [
    "df['url_free_tweets'].str.rstrip()"
   ]
  },
  {
   "cell_type": "code",
   "execution_count": 51,
   "id": "5cd5ea43",
   "metadata": {},
   "outputs": [],
   "source": [
    "from nltk.stem import WordNetLemmatizer\n",
    "from nltk.tokenize import word_tokenize\n",
    "\n",
    "wordnet_lemmatizer = WordNetLemmatizer()\n",
    "stopwords = nltk.corpus.stopwords.words('dutch')\n",
    "def preprocessing(tweet):\n",
    "    '''preprocess a tweet'''\n",
    "    \n",
    "    tweet = \"\".join([i for i in tweet if i not in string.punctuation]) # remove punctuation\n",
    "    tweet = tweet.lower() # lowercase\n",
    "    \n",
    "    tweet = word_tokenize(tweet, language=\"dutch\") # tokenize the tweet\n",
    "    \n",
    "    tweet = [i for i in tweet if i not in stopwords] # remove stopwords\n",
    "    \n",
    "    tweet = [wordnet_lemmatizer.lemmatize(word) for word in tweet] # lemmatize the tweets\n",
    "    \n",
    "    return tweet\n",
    "    "
   ]
  },
  {
   "cell_type": "code",
   "execution_count": 58,
   "id": "3ee021f6",
   "metadata": {},
   "outputs": [],
   "source": [
    "df['preprocessed'] = df['url_free_tweets'].apply(preprocessing)\n",
    "df = df[df.astype(str)['preprocessed'] != '[]']"
   ]
  },
  {
   "cell_type": "code",
   "execution_count": 59,
   "id": "34b58487",
   "metadata": {
    "scrolled": true
   },
   "outputs": [
    {
     "data": {
      "text/plain": [
       "1                          [wiskunde, lover, honden, freak]\n",
       "2         [it, ict, iot, •agrifoodtech, •biobased, •circ...\n",
       "6            [leesbaar, kroniek, gebeurtenissen, amsterdam]\n",
       "7         [toteltuin, noseflutejob, bach, on, the, sheep...\n",
       "8         [columnist, boosdrietig, vanwege, tweet, jamme...\n",
       "                                ...                        \n",
       "392401    [suis, un, veillant, sur, la, qualité, lair, q...\n",
       "392414    [meest, uitgebreide, zakelijke, nieuws, bezoek...\n",
       "392416    [uitgeverij, historische, verhalen, publiceert...\n",
       "392422    [dutchjewishsinglehad, a, great, friend, for, ...\n",
       "392442                       [gitarist, klassiek, itgoeroe]\n",
       "Name: preprocessed, Length: 91003, dtype: object"
      ]
     },
     "execution_count": 59,
     "metadata": {},
     "output_type": "execute_result"
    }
   ],
   "source": [
    "df['preprocessed']"
   ]
  }
 ],
 "metadata": {
  "kernelspec": {
   "display_name": "Python 3",
   "language": "python",
   "name": "python3"
  },
  "language_info": {
   "codemirror_mode": {
    "name": "ipython",
    "version": 3
   },
   "file_extension": ".py",
   "mimetype": "text/x-python",
   "name": "python",
   "nbconvert_exporter": "python",
   "pygments_lexer": "ipython3",
   "version": "3.8.8"
  }
 },
 "nbformat": 4,
 "nbformat_minor": 5
}
