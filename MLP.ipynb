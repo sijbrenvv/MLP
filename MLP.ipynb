{
 "cells": [
  {
   "cell_type": "code",
   "execution_count": 1,
   "id": "d169ffda",
   "metadata": {},
   "outputs": [],
   "source": [
    "#!pip install emoji\n",
    "#!pip install spacy\n",
    "#!pip install sentence_transformers\n",
    "import pandas as pd\n",
    "import numpy as np\n",
    "import emoji\n",
    "import regex\n",
    "import nltk\n",
    "import re\n",
    "import sklearn\n",
    "import string\n",
    "#import spacy\n",
    "from collections import Counter\n",
    "from sentence_transformers import SentenceTransformer\n",
    "np.random.seed(10)"
   ]
  },
  {
   "cell_type": "code",
   "execution_count": 2,
   "id": "d7756d27",
   "metadata": {
    "collapsed": true
   },
   "outputs": [
    {
     "name": "stderr",
     "output_type": "stream",
     "text": [
      "[nltk_data] Downloading package stopwords to\n",
      "[nltk_data]     C:\\Users\\Marti\\AppData\\Roaming\\nltk_data...\n",
      "[nltk_data]   Package stopwords is already up-to-date!\n",
      "[nltk_data] Downloading package wordnet to\n",
      "[nltk_data]     C:\\Users\\Marti\\AppData\\Roaming\\nltk_data...\n",
      "[nltk_data]   Package wordnet is already up-to-date!\n"
     ]
    },
    {
     "data": {
      "text/plain": [
       "True"
      ]
     },
     "execution_count": 2,
     "metadata": {},
     "output_type": "execute_result"
    }
   ],
   "source": [
    "nltk.download('stopwords')\n",
    "nltk.download('wordnet')"
   ]
  },
  {
   "cell_type": "code",
   "execution_count": 81,
   "id": "0bd0bcb4",
   "metadata": {},
   "outputs": [
    {
     "name": "stdout",
     "output_type": "stream",
     "text": [
      "392446\n"
     ]
    }
   ],
   "source": [
    "df = pd.read_csv('data2021.csv')\n",
    "print(len(df))\n",
    "df = df.drop_duplicates(subset=['user_id']) # remove duplicates"
   ]
  },
  {
   "cell_type": "code",
   "execution_count": 82,
   "id": "e4238922",
   "metadata": {},
   "outputs": [],
   "source": [
    "df.dropna(subset=['user_description'], inplace=True) # remove NaN values"
   ]
  },
  {
   "cell_type": "code",
   "execution_count": 83,
   "id": "cae119fc",
   "metadata": {},
   "outputs": [
    {
     "data": {
      "text/plain": [
       "1         Wiskunde lover, honden freak. 🇮🇱🇹🇭🏁🇩🇪🇭🇺🇳🇱🇷🇸🇸🇽🇸...\n",
       "2         IT ICT IoT || •AgriFoodTech •Biobased •Circula...\n",
       "6         Leesbaar, kroniek van gebeurtenissen in Amsterdam\n",
       "7         Mijn #TOTELTUIN ++ #Noseflutejob ++ Bach on th...\n",
       "8         Columnist https://t.co/eX0BHLeWH2. Boosdrietig...\n",
       "                                ...                        \n",
       "392401    Je suis un 🤖 veillant sur la qualité de l'air ...\n",
       "392414    Voor het meest uitgebreide zakelijke nieuws be...\n",
       "392416    Uitgeverij Historische Verhalen publiceert kor...\n",
       "392422    Dutch,Jewish,single,had a great friend for lif...\n",
       "392442     Gitarist (klassiek) 🎸🎼🎵🎶 en 🖥️🗃️🛠️ 😎 IT-Goeroe 😎\n",
       "Name: user_description, Length: 92363, dtype: object"
      ]
     },
     "execution_count": 83,
     "metadata": {},
     "output_type": "execute_result"
    }
   ],
   "source": [
    "df['user_description']"
   ]
  },
  {
   "cell_type": "code",
   "execution_count": 84,
   "id": "284afcad",
   "metadata": {},
   "outputs": [],
   "source": [
    "def give_emoji_free_text(text):\n",
    "    \"\"\"\n",
    "    Description:\n",
    "        Removes emojis from given text (biographies)\n",
    "    Input:\n",
    "        Text as string (biographies)\n",
    "    Output:\n",
    "        Text as string (emoji free biographies)\n",
    "    Example:\n",
    "        >>> give_emoji_free_text('Wiskunde lover, honden freak. 🇮🇱🇹🇭🏁🇩🇪🇭🇺🇳🇱🇷🇸🇸🇽🇸')\n",
    "        'Wiskunde lover, honden freak.'\n",
    "    \"\"\"\n",
    "    emoji_list = [c for c in text if c in emoji.EMOJI_DATA]\n",
    "    clean_text = ' '.join([str for str in text.split() if not any(i in str for i in emoji_list)])\n",
    "    return clean_text\n",
    "\n",
    "def url_free_text(text):\n",
    "    '''\n",
    "    Description:\n",
    "        Removes URLs from given text (biographies)\n",
    "    Input:\n",
    "        Text as string (biographies)\n",
    "    Output:\n",
    "        Text as string (URL free biographies)\n",
    "    Example:\n",
    "        >>> url_free_text('Columnist https://t.co/eX0BHLeWH2. Boosdrietig')\n",
    "        'Columnist Boosdrietig'\n",
    "    '''\n",
    "    text = re.sub(r'http\\S+', '', text)\n",
    "    return text\n",
    "\n",
    "\n",
    "# Apply `call_emoji_free` which calls the function to remove all emoji's\n",
    "#df['emoji_free_tweets'] = df['user_description'].apply(call_emoji_free)\n",
    "\n",
    "#Create a new column with url free biographies\n",
    "#df['url_free_tweets'] = df['emoji_free_tweets'].apply(url_free_text)"
   ]
  },
  {
   "cell_type": "code",
   "execution_count": 85,
   "id": "333e32ff",
   "metadata": {},
   "outputs": [],
   "source": [
    "#df['url_free_tweets'].str.rstrip()"
   ]
  },
  {
   "cell_type": "code",
   "execution_count": 86,
   "id": "5cd5ea43",
   "metadata": {},
   "outputs": [],
   "source": [
    "from nltk.stem import WordNetLemmatizer\n",
    "from nltk.tokenize import word_tokenize\n",
    "\n",
    "# Apply the give_emoji_free_text function and get biographies free of emojis\n",
    "call_emoji_free = lambda x: give_emoji_free_text(x)\n",
    "\n",
    "wordnet_lemmatizer = WordNetLemmatizer()\n",
    "def preprocessing(bio):\n",
    "    '''\n",
    "    Description:\n",
    "        Preprocesses input text by: removing: punctuation, emojis, URLs, Dutch and English stopwords, \\\n",
    "        tokenisation, lowercasing and lemmatisation.\n",
    "    Input:\n",
    "        Text as string (biographies)\n",
    "    Output:\n",
    "        Text as list (preprocessed biographies)\n",
    "    Example:\n",
    "        >>> preprocessing('Wiskunde lover, honden freak. 🇮🇱🇹🇭🏁🇩🇪🇭🇺🇳🇱🇷🇸🇸🇽🇸')\n",
    "        [wiskunde, lover, honden, freak]\n",
    "    '''\n",
    "    \n",
    "    bio = \"\".join([i for i in bio if i not in (string.punctuation + '•')]) # Remove punctuation\n",
    "    bio = call_emoji_free(bio) # Remove emojis\n",
    "    bio = url_free_text(bio).rstrip() # Remove URLs\n",
    "    bio = word_tokenize(bio, language=\"dutch\") # Tokenise the biography\n",
    "    \n",
    "    bio = [item.lower() for item in bio] # lowercase\n",
    "    \n",
    "    stopwords = nltk.corpus.stopwords.words('dutch')\n",
    "    bio = [i for i in bio if i not in stopwords] # Remove Dutch stopwords\n",
    "    \n",
    "    stopwords = nltk.corpus.stopwords.words('english')\n",
    "    bio = [i for i in bio if i not in stopwords] # Remove English stopwords\n",
    "    \n",
    "    bio = [wordnet_lemmatizer.lemmatize(word) for word in bio] # Lemmatise the biographies\n",
    "    \n",
    "    return bio\n",
    "    "
   ]
  },
  {
   "cell_type": "code",
   "execution_count": 87,
   "id": "3ee021f6",
   "metadata": {},
   "outputs": [],
   "source": [
    "#df['preprocessed'] = df['url_free_tweets'].apply(preprocessing)\n",
    "df['preprocessed'] = df['user_description'].apply(preprocessing)\n",
    "\n",
    "# Remove biographies which contain links only\n",
    "df = df[df.astype(str)['preprocessed'] != '[]']"
   ]
  },
  {
   "cell_type": "code",
   "execution_count": 65,
   "id": "34b58487",
   "metadata": {
    "scrolled": true
   },
   "outputs": [
    {
     "data": {
      "text/plain": [
       "1                          [wiskunde, lover, honden, freak]\n",
       "2         [ict, iot, agrifoodtech, biobased, circular, d...\n",
       "6            [leesbaar, kroniek, gebeurtenissen, amsterdam]\n",
       "7         [toteltuin, noseflutejob, bach, sheepdogwhistl...\n",
       "8         [columnist, boosdrietig, vanwege, tweet, jamme...\n",
       "                                ...                        \n",
       "392401    [suis, un, veillant, sur, la, qualité, lair, q...\n",
       "392414    [meest, uitgebreide, zakelijke, nieuws, bezoek...\n",
       "392416    [uitgeverij, historische, verhalen, publiceert...\n",
       "392422    [dutchjewishsinglehad, great, friend, life, po...\n",
       "392442                       [gitarist, klassiek, itgoeroe]\n",
       "Name: preprocessed, Length: 90896, dtype: object"
      ]
     },
     "execution_count": 65,
     "metadata": {},
     "output_type": "execute_result"
    }
   ],
   "source": [
    "df['preprocessed']"
   ]
  },
  {
   "cell_type": "code",
   "execution_count": 11,
   "id": "896b8e1b",
   "metadata": {},
   "outputs": [],
   "source": [
    "# Create sentence embeddings using multilingual BERT model\n",
    "model = SentenceTransformer('paraphrase-multilingual-mpnet-base-v2')\n",
    "\n",
    "# Our sentences we like to encode\n",
    "sentences_list =  df['preprocessed'].values\n",
    "sentences = []\n",
    "for i in sentences_list:\n",
    "    detok = \" \".join(i)\n",
    "    sentences.append(detok)\n",
    "    #sentences.append(\" \".join(i)) # Check of deze regel ook werkt, is een stap minder\n",
    "embeddings = model.encode(sentences)"
   ]
  },
  {
   "cell_type": "code",
   "execution_count": 12,
   "id": "df260326",
   "metadata": {},
   "outputs": [],
   "source": [
    "#!pip install yellowbrick"
   ]
  },
  {
   "cell_type": "code",
   "execution_count": 134,
   "id": "24fc8bf6",
   "metadata": {
    "scrolled": true
   },
   "outputs": [],
   "source": [
    "from sklearn.cluster import KMeans\n",
    "from sklearn.preprocessing import MinMaxScaler\n",
    "from sklearn.datasets import make_blobs\n",
    "from sklearn.metrics import silhouette_samples, silhouette_score\n",
    "from sklearn.preprocessing import StandardScaler\n",
    "from yellowbrick.cluster import KElbowVisualizer\n",
    "from matplotlib import pyplot as plt\n",
    "import matplotlib.cm as cm\n",
    "import seaborn as sns\n",
    "%matplotlib inline\n",
    "sns.set_style('whitegrid')\n",
    "plt.style.use('fivethirtyeight')\n",
    "\n",
    "def elbow(min=15,max=25):\n",
    "    ''' \n",
    "    Description:\n",
    "        Computes a graphical visualisation of the Elbow Method given a min and max value for K\n",
    "    Args:\n",
    "        min: Minimal value of K\n",
    "        max: Maximum value of K\n",
    "    Output:\n",
    "        A graphical visualisation of the Elbow Method\n",
    "    '''\n",
    "    Sum_of_squared_distances =[]\n",
    "    K = range(min,max)\n",
    "    for k in K:\n",
    "        km =KMeans(n_clusters =k, n_init = 10) # Initialise the k-means clusterer\n",
    "        km =km.fit(embeddings) # Compute k-means clustering\n",
    "        Sum_of_squared_distances.append(km.inertia_)\n",
    "\n",
    "    plt.plot(K, Sum_of_squared_distances, 'bx-')\n",
    "    plt.xlabel('k')\n",
    "    plt.ylabel('SSE')\n",
    "    plt.title('Elbow Method For Optimal k')\n",
    "    plt.show()"
   ]
  },
  {
   "cell_type": "code",
   "execution_count": 14,
   "id": "4d71dd78",
   "metadata": {},
   "outputs": [],
   "source": [
    "# from sklearn.cluster import MiniBatchKMeans\n",
    "# from sklearn.metrics import silhouette_score\n",
    "# from sklearn.metrics import silhouette_samples \n",
    "\n",
    "# def mbkmeans_clusters(\n",
    "#     X, \n",
    "#     k, \n",
    "#     mb, \n",
    "#     print_silhouette_values, \n",
    "#     n_init = 10,\n",
    "# ):\n",
    "#     \"\"\"\n",
    "#     Description:\n",
    "#         Generate clusters and print Silhouette metrics using MBKmeans\n",
    "#     Args:\n",
    "#         X: Matrix of features.\n",
    "#         k: Number of clusters.\n",
    "#         mb: Size of mini-batches.\n",
    "#         print_silhouette_values: Print silhouette values per cluster.\n",
    "#     Output:\n",
    "#         Trained clustering model and labels based on X.\n",
    "#     \"\"\"\n",
    "\n",
    "#     km = MiniBatchKMeans(n_clusters=k, batch_size=mb).fit(X) # Initialise the k-means clusterer for mini-batches and \\\n",
    "#                                                              # compute the centroids on X by chunking it into mini-batches\n",
    "#     print(f\"For n_clusters = {k}\")\n",
    "#     print(f\"Silhouette coefficient: {silhouette_score(X, km.labels_):0.2f}\")\n",
    "#     print(f\"Inertia:{km.inertia_}\")\n",
    "\n",
    "#     if print_silhouette_values:\n",
    "#         sample_silhouette_values = silhouette_samples(X, km.labels_)\n",
    "#         print(f\"Silhouette values:\")\n",
    "#         silhouette_values = []\n",
    "#         for i in range(k):\n",
    "#             cluster_silhouette_values = sample_silhouette_values[km.labels_ == i]\n",
    "#             silhouette_values.append(\n",
    "#                 (\n",
    "#                     i,\n",
    "#                     cluster_silhouette_values.shape[0],\n",
    "#                     cluster_silhouette_values.mean(),\n",
    "#                     cluster_silhouette_values.min(),\n",
    "#                     cluster_silhouette_values.max(),\n",
    "#                 )\n",
    "#             )\n",
    "#         silhouette_values = sorted(\n",
    "#             silhouette_values, key=lambda tup: tup[2], reverse=True\n",
    "#         )\n",
    "#         for s in silhouette_values:\n",
    "#             print(\n",
    "#                 f\"    Cluster {s[0]}: Size:{s[1]} | Avg:{s[2]:.2f} | Min:{s[3]:.2f} | Max: {s[4]:.2f}\"\n",
    "#             )\n",
    "#     return km, km.labels_\n",
    "\n",
    "# embedding_rs = embeddings.reshape(-1, 1)\n",
    "\n",
    "# clustering, cluster_labels = mbkmeans_clusters(\n",
    "#     X=embedding_rs,\n",
    "#     k=50,\n",
    "#     mb=500,\n",
    "#     print_silhouette_values=True,\n",
    "# )"
   ]
  },
  {
   "cell_type": "code",
   "execution_count": 15,
   "id": "67c0dc04",
   "metadata": {},
   "outputs": [],
   "source": [
    "km = KMeans(n_clusters = 23, n_init = 10) # Initialise the k-means clusterer\n",
    "km = km.fit(embeddings) # Compute k-means clustering"
   ]
  },
  {
   "cell_type": "code",
   "execution_count": 16,
   "id": "6d41350c",
   "metadata": {},
   "outputs": [],
   "source": [
    "label = km.predict(embeddings) # Compute cluster centers and predict cluster index for each sample"
   ]
  },
  {
   "cell_type": "code",
   "execution_count": 107,
   "id": "d78c34fd",
   "metadata": {},
   "outputs": [],
   "source": [
    "centers = (km.cluster_centers_)"
   ]
  },
  {
   "cell_type": "code",
   "execution_count": 89,
   "id": "7185b687",
   "metadata": {},
   "outputs": [],
   "source": [
    "cluster_dict = {}\n",
    "freq_dict = {}\n",
    "for count, value in enumerate(sentences):\n",
    "    if label[count] in cluster_dict:\n",
    "        freq_dict[label[count]] += 1\n",
    "        cluster_dict[label[count]] += value\n",
    "    else:\n",
    "        freq_dict[label[count]] = 1\n",
    "        cluster_dict[label[count]] = value"
   ]
  },
  {
   "cell_type": "code",
   "execution_count": 99,
   "id": "22e87723",
   "metadata": {},
   "outputs": [
    {
     "name": "stdout",
     "output_type": "stream",
     "text": [
      "['natuur', 'dieren', 'animal', 'nature', 'love', 'graag', 'leven', 'wandelen', 'dog', 'katten'] Cluster: 19 Size: 3402\n",
      "['energie', 'duurzame', 'natuur', 'duurzaamheid', 'klimaat', 'energy', 'duurzaam', 'climate', 'saman', 'groen'] Cluster: 16 Size: 3152\n",
      "['nederland', 'amsterdam', 'dutch', 'netherlands', 'nederlandse', 'nieuws', 'tweet', 'eu', 'politiek', 'belgië'] Cluster: 12 Size: 3703\n",
      "['politiek', 'vrijheid', 'anti', 'rechts', 'politieke', 'right', 'link', 'eu', 'freedom', 'pro'] Cluster: 10 Size: 5277\n",
      "['tweet', 'persoonlijke', 'twitter', 'account', 'twitteraccount', 'eigen', 'twittert', 'titel', 'nieuws', 'volg'] Cluster: 13 Size: 5360\n",
      "['nieuws', 'uur', 'sind', 'jaar', 'wij', 'rechts', 'den', 'onze', 'alle', 'bel'] Cluster: 20 Size: 6956\n",
      "['wel', 'som', 'graag', 'dingen', 'gewoon', 'leven', 'mensen', 'dag', 'gek', 'humor'] Cluster: 5 Size: 5509\n",
      "['mening', 'waarheid', 'mensen', 'wel', 'truth', 'som', 'people', 'wereld', 'eigen', 'kritisch'] Cluster: 18 Size: 4021\n",
      "['sport', 'fan', 'voetbal', 'fc', 'football', 'ajax', 'cycling', 'club', 'team', 'feyenoord'] Cluster: 6 Size: 4311\n",
      "['gemeente', 'nieuws', 'nederland', 'lid', 'vader', 'utrecht', 'groningen', 'sport', 'muziek', 'voorzitter'] Cluster: 4 Size: 8907\n",
      "['music', 'muziek', 'radio', 'love', 'dj', 'rock', 'fan', 'life', 'jazz', 'film'] Cluster: 3 Size: 3469\n",
      "['food', 'eten', 'love', 'lekker', 'koken', 'wijn', 'koffie', 'vegan', 'graag', 'life'] Cluster: 17 Size: 2587\n",
      "['love', 'sheher', 'fan', 'girl', 'im', 'like', 'lover', 'life', 'woman', 'mama'] Cluster: 15 Size: 3225\n",
      "['crypto', 'account', 'bitcoin', 'game', 'nieuws', 'developer', 'twitch', 'ajax', 'online', 'digital'] Cluster: 11 Size: 3426\n",
      "['life', 'love', 'leven', 'live', 'never', 'world', 'day', 'make', 'thing', 'good'] Cluster: 9 Size: 2671\n",
      "['art', 'fotografie', 'photographer', 'photography', 'design', 'fotograaf', 'designer', 'fotos', 'artist', 'kunst'] Cluster: 2 Size: 2893\n",
      "['zorg', 'health', 'mensen', 'gezondheid', 'leven', 'science', 'medical', 'jaar', 'medicine', 'bio'] Cluster: 22 Size: 2986\n",
      "['journalist', 'nieuws', 'medium', 'podcast', 'radio', 'politiek', 'tv', 'online', 'news', 'schrijft'] Cluster: 8 Size: 3397\n",
      "['moeder', 'getrouwd', 'kinderen', 'vader', 'dochter', 'dochters', 'twee', 'kid', 'oma', 'vrouw'] Cluster: 0 Size: 3045\n",
      "['vader', 'man', 'father', 'echtgenoot', 'trotse', 'fan', 'jaar', 'husband', 'dad', 'papa'] Cluster: 21 Size: 4309\n",
      "['sheher', 'love', 'fan', 'make', 'go', 'anime', 'im', 'u', 'bts', 'α'] Cluster: 14 Size: 1064\n",
      "['business', 'marketing', 'management', 'manager', 'wij', 'advies', 'service', 'online', 'consultant', 'professional'] Cluster: 7 Size: 4521\n",
      "['onderwijs', 'coach', 'leren', 'docent', 'kinderen', 'teacher', 'student', 'trainer', 'education', 'school'] Cluster: 1 Size: 2707\n"
     ]
    }
   ],
   "source": [
    "from collections import Counter\n",
    "cluster = {}\n",
    "for i in cluster_dict:\n",
    "    wordsList = str(cluster_dict[i]).split()\n",
    "    wordsList = [ x for x in wordsList if x.isalpha() ]\n",
    "    counters = Counter(wordsList)\n",
    "    most_occur = counters.most_common(10)\n",
    "    n_words = []\n",
    "    for word in most_occur:\n",
    "        n_words.append(word[0])\n",
    "        \n",
    "    print(n_words, \"Cluster:\", i, \"Size:\", freq_dict[i])\n",
    "    cluster[i] = n_words[0]"
   ]
  },
  {
   "cell_type": "code",
   "execution_count": 162,
   "id": "78c5bfb2",
   "metadata": {
    "scrolled": false
   },
   "outputs": [
    {
     "data": {
      "image/png": "[encoded data removed]",
      "text/plain": [
       "<Figure size 1080x1080 with 1 Axes>"
      ]
     },
     "metadata": {},
     "output_type": "display_data"
    }
   ],
   "source": [
    "from sklearn.decomposition import PCA\n",
    "pca = PCA(n_components=2)\n",
    "H = pca.fit_transform(centers)\n",
    "\n",
    "import matplotlib.pyplot as plt\n",
    "\n",
    "fig, ax = plt.subplots(figsize=(15, 15))\n",
    "for i, value in enumerate(H):\n",
    "    ax.scatter(x = value[0], y = value[1], s = (freq_dict[i]/5))\n",
    "    ax.annotate(cluster[i], xy= (value[0], value[1]), fontsize = 11, xytext = (value[0] + 0.03, value[1]))  "
   ]
  },
  {
   "cell_type": "code",
   "execution_count": null,
   "id": "46008fa1",
   "metadata": {},
   "outputs": [],
   "source": []
  },
  {
   "cell_type": "code",
   "execution_count": null,
   "id": "b72a3d5d",
   "metadata": {},
   "outputs": [],
   "source": []
  }
 ],
 "metadata": {
  "kernelspec": {
   "display_name": "Python 3",
   "language": "python",
   "name": "python3"
  },
  "language_info": {
   "codemirror_mode": {
    "name": "ipython",
    "version": 3
   },
   "file_extension": ".py",
   "mimetype": "text/x-python",
   "name": "python",
   "nbconvert_exporter": "python",
   "pygments_lexer": "ipython3",
   "version": "3.8.8"
  }
 },
 "nbformat": 4,
 "nbformat_minor": 5
}
