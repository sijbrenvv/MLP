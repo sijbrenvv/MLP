{
 "cells": [
  {
   "cell_type": "code",
   "execution_count": 22,
   "id": "d169ffda",
   "metadata": {},
   "outputs": [],
   "source": [
    "#!pip install emoji\n",
    "#!pip install spacy\n",
    "#!pip install sentence_transformers\n",
    "import pandas as pd\n",
    "import numpy as np\n",
    "import emoji\n",
    "import regex\n",
    "import nltk\n",
    "import re\n",
    "import sklearn\n",
    "import string\n",
    "#import spacy\n",
    "from collections import Counter\n",
    "from sentence_transformers import SentenceTransformer\n",
    "np.random.seed(10)"
   ]
  },
  {
   "cell_type": "code",
   "execution_count": 23,
   "id": "d7756d27",
   "metadata": {},
   "outputs": [
    {
     "name": "stderr",
     "output_type": "stream",
     "text": [
      "[nltk_data] Downloading package stopwords to\n",
      "[nltk_data]     /home/sijbren/nltk_data...\n",
      "[nltk_data]   Package stopwords is already up-to-date!\n",
      "[nltk_data] Downloading package wordnet to /home/sijbren/nltk_data...\n",
      "[nltk_data]   Package wordnet is already up-to-date!\n"
     ]
    },
    {
     "data": {
      "text/plain": [
       "True"
      ]
     },
     "execution_count": 23,
     "metadata": {},
     "output_type": "execute_result"
    }
   ],
   "source": [
    "nltk.download('stopwords')\n",
    "nltk.download('wordnet')"
   ]
  },
  {
   "cell_type": "code",
   "execution_count": 24,
   "id": "0bd0bcb4",
   "metadata": {},
   "outputs": [
    {
     "name": "stdout",
     "output_type": "stream",
     "text": [
      "392446\n"
     ]
    }
   ],
   "source": [
    "df = pd.read_csv('data2021.csv')\n",
    "print(len(df))\n",
    "df = df.drop_duplicates(subset=['user_id']) # remove duplicates"
   ]
  },
  {
   "cell_type": "code",
   "execution_count": 25,
   "id": "e4238922",
   "metadata": {},
   "outputs": [],
   "source": [
    "df.dropna(subset=['user_description'], inplace=True) # remove NaN values"
   ]
  },
  {
   "cell_type": "code",
   "execution_count": 26,
   "id": "cae119fc",
   "metadata": {},
   "outputs": [
    {
     "data": {
      "text/plain": [
       "1         Wiskunde lover, honden freak. 🇮🇱🇹🇭🏁🇩🇪🇭🇺🇳🇱🇷🇸🇸🇽🇸...\n",
       "2         IT ICT IoT || •AgriFoodTech •Biobased •Circula...\n",
       "6         Leesbaar, kroniek van gebeurtenissen in Amsterdam\n",
       "7         Mijn #TOTELTUIN ++ #Noseflutejob ++ Bach on th...\n",
       "8         Columnist https://t.co/eX0BHLeWH2. Boosdrietig...\n",
       "                                ...                        \n",
       "392401    Je suis un 🤖 veillant sur la qualité de l'air ...\n",
       "392414    Voor het meest uitgebreide zakelijke nieuws be...\n",
       "392416    Uitgeverij Historische Verhalen publiceert kor...\n",
       "392422    Dutch,Jewish,single,had a great friend for lif...\n",
       "392442     Gitarist (klassiek) 🎸🎼🎵🎶 en 🖥️🗃️🛠️ 😎 IT-Goeroe 😎\n",
       "Name: user_description, Length: 92363, dtype: object"
      ]
     },
     "execution_count": 26,
     "metadata": {},
     "output_type": "execute_result"
    }
   ],
   "source": [
    "df['user_description']"
   ]
  },
  {
   "cell_type": "code",
   "execution_count": 27,
   "id": "284afcad",
   "metadata": {},
   "outputs": [],
   "source": [
    "def give_emoji_free_text(text):\n",
    "    \"\"\"\n",
    "    Description:\n",
    "        Removes emojis from given text (biographies)\n",
    "    Input:\n",
    "        Text as string (biographies)\n",
    "    Output:\n",
    "        Text as string (emoji free biographies)\n",
    "    Example:\n",
    "        >>> give_emoji_free_text('Wiskunde lover, honden freak. 🇮🇱🇹🇭🏁🇩🇪🇭🇺🇳🇱🇷🇸🇸🇽🇸')\n",
    "        'Wiskunde lover, honden freak.'\n",
    "    \"\"\"\n",
    "    emoji_list = [c for c in text if c in emoji.EMOJI_DATA]\n",
    "    clean_text = ' '.join([str for str in text.split() if not any(i in str for i in emoji_list)])\n",
    "    return clean_text\n",
    "\n",
    "def url_free_text(text):\n",
    "    '''\n",
    "    Description:\n",
    "        Removes URLs from given text (biographies)\n",
    "    Input:\n",
    "        Text as string (biographies)\n",
    "    Output:\n",
    "        Text as string (URL free biographies)\n",
    "    Example:\n",
    "        >>> url_free_text('Columnist https://t.co/eX0BHLeWH2. Boosdrietig')\n",
    "        'Columnist Boosdrietig'\n",
    "    '''\n",
    "    text = re.sub(r'http\\S+', '', text)\n",
    "    return text\n",
    "\n",
    "\n",
    "# Apply `call_emoji_free` which calls the function to remove all emoji's\n",
    "#df['emoji_free_tweets'] = df['user_description'].apply(call_emoji_free)\n",
    "\n",
    "#Create a new column with url free biographies\n",
    "#df['url_free_tweets'] = df['emoji_free_tweets'].apply(url_free_text)"
   ]
  },
  {
   "cell_type": "code",
   "execution_count": 28,
   "id": "333e32ff",
   "metadata": {},
   "outputs": [],
   "source": [
    "#df['url_free_tweets'].str.rstrip()"
   ]
  },
  {
   "cell_type": "code",
   "execution_count": 46,
   "id": "5cd5ea43",
   "metadata": {},
   "outputs": [],
   "source": [
    "from nltk.stem import WordNetLemmatizer\n",
    "from nltk.tokenize import word_tokenize\n",
    "\n",
    "# Apply the give_emoji_free_text function and get biographies free of emojis\n",
    "call_emoji_free = lambda x: give_emoji_free_text(x)\n",
    "\n",
    "wordnet_lemmatizer = WordNetLemmatizer()\n",
    "def preprocessing(bio):\n",
    "    '''\n",
    "    Description:\n",
    "        Preprocesses input text by: removing: punctuation, emojis, URLs, Dutch and English stopwords, \\\n",
    "        tokenisation, lowercasing and lemmatisation.\n",
    "    Input:\n",
    "        Text as string (biographies)\n",
    "    Output:\n",
    "        Text as list (preprocessed biographies)\n",
    "    Example:\n",
    "        >>> preprocessing('Wiskunde lover, honden freak. 🇮🇱🇹🇭🏁🇩🇪🇭🇺🇳🇱🇷🇸🇸🇽🇸')\n",
    "        [wiskunde, lover, honden, freak]\n",
    "    '''\n",
    "    \n",
    "    bio = \"\".join([i for i in bio if i not in (string.punctuation + '•')]) # Remove punctuation\n",
    "    bio = call_emoji_free(bio) # Remove emojis\n",
    "    bio = url_free_text(bio).rstrip() # Remove URLs\n",
    "    bio = word_tokenize(bio, language=\"dutch\") # Tokenise the biography\n",
    "    \n",
    "    bio = [item.lower() for item in bio] # lowercase\n",
    "    \n",
    "    stopwords = nltk.corpus.stopwords.words('dutch')\n",
    "    bio = [i for i in bio if i not in stopwords] # Remove Dutch stopwords\n",
    "    \n",
    "    stopwords = nltk.corpus.stopwords.words('english')\n",
    "    bio = [i for i in bio if i not in stopwords] # Remove English stopwords\n",
    "    \n",
    "    bio = [wordnet_lemmatizer.lemmatize(word) for word in bio] # Lemmatise the biographies\n",
    "    \n",
    "    return bio\n",
    "    "
   ]
  },
  {
   "cell_type": "code",
   "execution_count": 47,
   "id": "3ee021f6",
   "metadata": {},
   "outputs": [],
   "source": [
    "#df['preprocessed'] = df['url_free_tweets'].apply(preprocessing)\n",
    "df['preprocessed'] = df['user_description'].apply(preprocessing)\n",
    "\n",
    "# Remove biographies which contain links only\n",
    "df = df[df.astype(str)['preprocessed'] != '[]']"
   ]
  },
  {
   "cell_type": "code",
   "execution_count": 48,
   "id": "34b58487",
   "metadata": {
    "scrolled": true
   },
   "outputs": [
    {
     "data": {
      "text/plain": [
       "1                          [wiskunde, lover, honden, freak]\n",
       "2         [ict, iot, agrifoodtech, biobased, circular, d...\n",
       "6            [leesbaar, kroniek, gebeurtenissen, amsterdam]\n",
       "7         [toteltuin, noseflutejob, bach, sheepdogwhistl...\n",
       "8         [columnist, boosdrietig, vanwege, tweet, jamme...\n",
       "                                ...                        \n",
       "392401    [suis, un, veillant, sur, la, qualité, lair, q...\n",
       "392414    [meest, uitgebreide, zakelijke, nieuws, bezoek...\n",
       "392416    [uitgeverij, historische, verhalen, publiceert...\n",
       "392422    [dutchjewishsinglehad, great, friend, life, po...\n",
       "392442                       [gitarist, klassiek, itgoeroe]\n",
       "Name: preprocessed, Length: 90898, dtype: object"
      ]
     },
     "execution_count": 48,
     "metadata": {},
     "output_type": "execute_result"
    }
   ],
   "source": [
    "df['preprocessed']"
   ]
  },
  {
   "cell_type": "code",
   "execution_count": null,
   "id": "896b8e1b",
   "metadata": {},
   "outputs": [
    {
     "data": {
      "application/vnd.jupyter.widget-view+json": {
       "model_id": "54c7fb942d864057bcfda9f908f66180",
       "version_major": 2,
       "version_minor": 0
      },
      "text/plain": [
       "HBox(children=(FloatProgress(value=0.0, description='Downloading (…)9e268/.gitattributes', max=690.0, style=Pr…"
      ]
     },
     "metadata": {},
     "output_type": "display_data"
    },
    {
     "name": "stdout",
     "output_type": "stream",
     "text": [
      "\n"
     ]
    },
    {
     "data": {
      "application/vnd.jupyter.widget-view+json": {
       "model_id": "4abce8a4e6f74d6eb415c38dd465a52e",
       "version_major": 2,
       "version_minor": 0
      },
      "text/plain": [
       "HBox(children=(FloatProgress(value=0.0, description='Downloading (…)_Pooling/config.json', max=190.0, style=Pr…"
      ]
     },
     "metadata": {},
     "output_type": "display_data"
    },
    {
     "name": "stdout",
     "output_type": "stream",
     "text": [
      "\n"
     ]
    },
    {
     "data": {
      "application/vnd.jupyter.widget-view+json": {
       "model_id": "71adf13fd8164f0fb61bbbd2ed6f994e",
       "version_major": 2,
       "version_minor": 0
      },
      "text/plain": [
       "HBox(children=(FloatProgress(value=0.0, description='Downloading (…)f2cd19e268/README.md', max=3769.0, style=P…"
      ]
     },
     "metadata": {},
     "output_type": "display_data"
    },
    {
     "name": "stdout",
     "output_type": "stream",
     "text": [
      "\n"
     ]
    },
    {
     "data": {
      "application/vnd.jupyter.widget-view+json": {
       "model_id": "0509b75b1eca4969ad486d430379fde1",
       "version_major": 2,
       "version_minor": 0
      },
      "text/plain": [
       "HBox(children=(FloatProgress(value=0.0, description='Downloading (…)cd19e268/config.json', max=723.0, style=Pr…"
      ]
     },
     "metadata": {},
     "output_type": "display_data"
    },
    {
     "name": "stdout",
     "output_type": "stream",
     "text": [
      "\n"
     ]
    },
    {
     "data": {
      "application/vnd.jupyter.widget-view+json": {
       "model_id": "48256b7832cf47248342e3f31fb89ba1",
       "version_major": 2,
       "version_minor": 0
      },
      "text/plain": [
       "HBox(children=(FloatProgress(value=0.0, description='Downloading (…)ce_transformers.json', max=122.0, style=Pr…"
      ]
     },
     "metadata": {},
     "output_type": "display_data"
    },
    {
     "name": "stdout",
     "output_type": "stream",
     "text": [
      "\n"
     ]
    },
    {
     "data": {
      "application/vnd.jupyter.widget-view+json": {
       "model_id": "067d2a91afce42779356feb128a28eb9",
       "version_major": 2,
       "version_minor": 0
      },
      "text/plain": [
       "HBox(children=(FloatProgress(value=0.0, description='Downloading pytorch_model.bin', max=1112253233.0, style=P…"
      ]
     },
     "metadata": {},
     "output_type": "display_data"
    },
    {
     "name": "stdout",
     "output_type": "stream",
     "text": [
      "\n"
     ]
    },
    {
     "data": {
      "application/vnd.jupyter.widget-view+json": {
       "model_id": "6617d9b1646f43c38dc8dd6048e8d84b",
       "version_major": 2,
       "version_minor": 0
      },
      "text/plain": [
       "HBox(children=(FloatProgress(value=0.0, description='Downloading (…)nce_bert_config.json', max=53.0, style=Pro…"
      ]
     },
     "metadata": {},
     "output_type": "display_data"
    },
    {
     "name": "stdout",
     "output_type": "stream",
     "text": [
      "\n"
     ]
    },
    {
     "data": {
      "application/vnd.jupyter.widget-view+json": {
       "model_id": "d6b75494e1a74281ae287673905c263c",
       "version_major": 2,
       "version_minor": 0
      },
      "text/plain": [
       "HBox(children=(FloatProgress(value=0.0, description='Downloading (…)tencepiece.bpe.model', max=5069051.0, styl…"
      ]
     },
     "metadata": {},
     "output_type": "display_data"
    },
    {
     "name": "stdout",
     "output_type": "stream",
     "text": [
      "\n"
     ]
    },
    {
     "data": {
      "application/vnd.jupyter.widget-view+json": {
       "model_id": "18f13f0c493c41b98c5fb2d5d7571458",
       "version_major": 2,
       "version_minor": 0
      },
      "text/plain": [
       "HBox(children=(FloatProgress(value=0.0, description='Downloading (…)cial_tokens_map.json', max=239.0, style=Pr…"
      ]
     },
     "metadata": {},
     "output_type": "display_data"
    },
    {
     "name": "stdout",
     "output_type": "stream",
     "text": [
      "\n"
     ]
    },
    {
     "data": {
      "application/vnd.jupyter.widget-view+json": {
       "model_id": "40bc49755b114cb6a4b134e189af1b38",
       "version_major": 2,
       "version_minor": 0
      },
      "text/plain": [
       "HBox(children=(FloatProgress(value=0.0, description='Downloading (…)9e268/tokenizer.json', max=9081518.0, styl…"
      ]
     },
     "metadata": {},
     "output_type": "display_data"
    },
    {
     "name": "stdout",
     "output_type": "stream",
     "text": [
      "\n"
     ]
    },
    {
     "data": {
      "application/vnd.jupyter.widget-view+json": {
       "model_id": "f844920e80584f74bb4767befd82b605",
       "version_major": 2,
       "version_minor": 0
      },
      "text/plain": [
       "HBox(children=(FloatProgress(value=0.0, description='Downloading (…)okenizer_config.json', max=402.0, style=Pr…"
      ]
     },
     "metadata": {},
     "output_type": "display_data"
    },
    {
     "name": "stdout",
     "output_type": "stream",
     "text": [
      "\n"
     ]
    },
    {
     "data": {
      "application/vnd.jupyter.widget-view+json": {
       "model_id": "54f2b09e0270471999d51c49ed2cfa4a",
       "version_major": 2,
       "version_minor": 0
      },
      "text/plain": [
       "HBox(children=(FloatProgress(value=0.0, description='Downloading (…)d19e268/modules.json', max=229.0, style=Pr…"
      ]
     },
     "metadata": {},
     "output_type": "display_data"
    },
    {
     "name": "stdout",
     "output_type": "stream",
     "text": [
      "\n"
     ]
    }
   ],
   "source": [
    "# Create sentence embeddings using multilingual BERT model\n",
    "model = SentenceTransformer('paraphrase-multilingual-mpnet-base-v2')\n",
    "\n",
    "# Our sentences we like to encode\n",
    "sentences_list =  df['preprocessed'].values\n",
    "sentences = []\n",
    "for i in sentences_list:\n",
    "    detok = \" \".join(i)\n",
    "    sentences.append(detok)\n",
    "    #sentences.append(\" \".join(i)) # Check of deze regel ook werkt, is een stap minder\n",
    "embeddings = model.encode(sentences)"
   ]
  },
  {
   "cell_type": "code",
   "execution_count": 12,
   "id": "df260326",
   "metadata": {},
   "outputs": [],
   "source": [
    "#!pip install yellowbrick"
   ]
  },
  {
   "cell_type": "code",
   "execution_count": 13,
   "id": "24fc8bf6",
   "metadata": {
    "scrolled": true
   },
   "outputs": [
    {
     "data": {
      "image/png": "[encoded data removed]",
      "text/plain": [
       "<Figure size 432x288 with 1 Axes>"
      ]
     },
     "metadata": {},
     "output_type": "display_data"
    }
   ],
   "source": [
    "from sklearn.cluster import KMeans\n",
    "from sklearn.preprocessing import MinMaxScaler\n",
    "from sklearn.datasets import make_blobs\n",
    "from sklearn.metrics import silhouette_samples, silhouette_score\n",
    "from sklearn.preprocessing import StandardScaler\n",
    "from yellowbrick.cluster import KElbowVisualizer\n",
    "from matplotlib import pyplot as plt\n",
    "import matplotlib.cm as cm\n",
    "import seaborn as sns\n",
    "%matplotlib inline\n",
    "sns.set_style('whitegrid')\n",
    "plt.style.use('fivethirtyeight')\n",
    "\n",
    "def elbow(min=15,max=25):\n",
    "    ''' \n",
    "    Description:\n",
    "        Computes a graphical visualisation of the Elbow Method given a min and max value for K\n",
    "    Args:\n",
    "        min: Minimal value of K\n",
    "        max: Maximum value of K\n",
    "    Output:\n",
    "        A graphical visualisation of the Elbow Method\n",
    "    '''\n",
    "    Sum_of_squared_distances =[]\n",
    "    K = range(min,max)\n",
    "    for k in K:\n",
    "        km =KMeans(n_clusters =k, n_init = 10) # Initialise the k-means clusterer\n",
    "        km =km.fit(embeddings) # Compute k-means clustering\n",
    "        Sum_of_squared_distances.append(km.inertia_)\n",
    "\n",
    "    plt.plot(K, Sum_of_squared_distances, 'bx-')\n",
    "    plt.xlabel('k')\n",
    "    plt.ylabel('SSE')\n",
    "    plt.title('Elbow Method For Optimal k')\n",
    "    plt.show()"
   ]
  },
  {
   "cell_type": "code",
   "execution_count": null,
   "id": "4d71dd78",
   "metadata": {},
   "outputs": [],
   "source": [
    "from sklearn.cluster import MiniBatchKMeans\n",
    "from sklearn.metrics import silhouette_score\n",
    "from sklearn.metrics import silhouette_samples \n",
    "\n",
    "def mbkmeans_clusters(\n",
    "    X, \n",
    "    k, \n",
    "    mb, \n",
    "    print_silhouette_values, \n",
    "    n_init = 10,\n",
    "):\n",
    "    \"\"\"\n",
    "    Description:\n",
    "        Generate clusters and print Silhouette metrics using MBKmeans\n",
    "    Args:\n",
    "        X: Matrix of features.\n",
    "        k: Number of clusters.\n",
    "        mb: Size of mini-batches.\n",
    "        print_silhouette_values: Print silhouette values per cluster.\n",
    "    Output:\n",
    "        Trained clustering model and labels based on X.\n",
    "    \"\"\"\n",
    "\n",
    "    km = MiniBatchKMeans(n_clusters=k, batch_size=mb).fit(X) # Initialise the k-means clusterer for mini-batches and \\\n",
    "                                                             # compute the centroids on X by chunking it into mini-batches\n",
    "    print(f\"For n_clusters = {k}\")\n",
    "    print(f\"Silhouette coefficient: {silhouette_score(X, km.labels_):0.2f}\")\n",
    "    print(f\"Inertia:{km.inertia_}\")\n",
    "\n",
    "    if print_silhouette_values:\n",
    "        sample_silhouette_values = silhouette_samples(X, km.labels_)\n",
    "        print(f\"Silhouette values:\")\n",
    "        silhouette_values = []\n",
    "        for i in range(k):\n",
    "            cluster_silhouette_values = sample_silhouette_values[km.labels_ == i]\n",
    "            silhouette_values.append(\n",
    "                (\n",
    "                    i,\n",
    "                    cluster_silhouette_values.shape[0],\n",
    "                    cluster_silhouette_values.mean(),\n",
    "                    cluster_silhouette_values.min(),\n",
    "                    cluster_silhouette_values.max(),\n",
    "                )\n",
    "            )\n",
    "        silhouette_values = sorted(\n",
    "            silhouette_values, key=lambda tup: tup[2], reverse=True\n",
    "        )\n",
    "        for s in silhouette_values:\n",
    "            print(\n",
    "                f\"    Cluster {s[0]}: Size:{s[1]} | Avg:{s[2]:.2f} | Min:{s[3]:.2f} | Max: {s[4]:.2f}\"\n",
    "            )\n",
    "    return km, km.labels_\n",
    "\n",
    "embedding_rs = embeddings.reshape(-1, 1)\n",
    "\n",
    "clustering, cluster_labels = mbkmeans_clusters(\n",
    "    X=embedding_rs,\n",
    "    k=50,\n",
    "    mb=500,\n",
    "    print_silhouette_values=True,\n",
    ")"
   ]
  },
  {
   "cell_type": "code",
   "execution_count": 17,
   "id": "67c0dc04",
   "metadata": {},
   "outputs": [],
   "source": [
    "km = KMeans(n_clusters = 23, n_init = 10) # Initialise the k-means clusterer\n",
    "km = km.fit(embeddings) # Compute k-means clustering"
   ]
  },
  {
   "cell_type": "code",
   "execution_count": 18,
   "id": "6d41350c",
   "metadata": {},
   "outputs": [],
   "source": [
    "label = km.predict(embeddings) # Compute cluster centers and predict cluster index for each sample"
   ]
  },
  {
   "cell_type": "code",
   "execution_count": 19,
   "id": "d78c34fd",
   "metadata": {},
   "outputs": [
    {
     "name": "stdout",
     "output_type": "stream",
     "text": [
      "90900\n"
     ]
    }
   ],
   "source": [
    "print(len(label))"
   ]
  },
  {
   "cell_type": "code",
   "execution_count": 20,
   "id": "7185b687",
   "metadata": {},
   "outputs": [],
   "source": [
    "cluster_dict = {}\n",
    "for count, value in enumerate(sentences):\n",
    "    if label[count] in cluster_dict:\n",
    "        cluster_dict[label[count]] += value\n",
    "    else:\n",
    "        cluster_dict[label[count]] = value"
   ]
  },
  {
   "cell_type": "code",
   "execution_count": 49,
   "id": "22e87723",
   "metadata": {},
   "outputs": [
    {
     "name": "stdout",
     "output_type": "stream",
     "text": [
      "[('wel', 154), ('’', 130), ('som', 129), ('•', 113), ('graag', 101), ('gewoon', 79), ('leven', 74), ('rechts', 74), ('dingen', 74), ('gek', 73)] Cluster: 8\n",
      "[('natuur', 221), ('energie', 191), ('duurzame', 181), ('duurzaamheid', 164), ('klimaat', 150), ('duurzaam', 130), ('climate', 129), ('energy', 129), ('saman', 114), ('milieu', 112)] Cluster: 6\n",
      "[('nederland', 602), ('amsterdam', 361), ('dutch', 262), ('netherlands', 166), ('nederlandse', 164), ('tweet', 126), ('•', 123), ('eu', 117), ('nieuws', 96), ('politiek', 96)] Cluster: 4\n",
      "[('politiek', 442), ('vrijheid', 273), ('anti', 256), ('rechts', 186), ('right', 180), ('politieke', 171), ('link', 167), ('’', 160), ('freedom', 143), ('eu', 131)] Cluster: 17\n",
      "[('tweet', 1975), ('persoonlijke', 933), ('twitter', 892), ('account', 375), ('twitteraccount', 334), ('eigen', 332), ('twittert', 311), ('titel', 280), ('nieuws', 238), ('•', 201)] Cluster: 5\n",
      "[('account', 172), ('nieuws', 160), ('via', 113), ('uur', 96), ('ajax', 88), ('game', 86), ('online', 85), ('developer', 82), ('onze', 78), ('alle', 74)] Cluster: 9\n",
      "[('food', 183), ('•', 155), ('eten', 134), ('’', 96), ('lekker', 84), ('love', 77), ('koken', 74), ('vegan', 72), ('bio', 71), ('graag', 69)] Cluster: 12\n",
      "[('’', 195), ('mening', 130), ('wel', 120), ('mensen', 118), ('”', 116), ('waarheid', 102), ('som', 99), ('people', 88), ('truth', 87), ('wereld', 84)] Cluster: 7\n",
      "[('sport', 399), ('voetbal', 312), ('fan', 295), ('fc', 228), ('•', 193), ('football', 173), ('ajax', 150), ('f1', 142), ('club', 117), ('feyenoord', 107)] Cluster: 21\n",
      "[('gemeente', 449), ('nederland', 362), ('nieuws', 346), ('lid', 210), ('vader', 208), ('utrecht', 196), ('groningen', 190), ('sport', 190), ('muziek', 164), ('voorzitter', 162)] Cluster: 18\n",
      "[('music', 724), ('muziek', 506), ('•', 179), ('love', 178), ('radio', 173), ('dj', 117), ('’', 100), ('rock', 92), ('fan', 92), ('film', 83)] Cluster: 1\n",
      "[('•', 384), ('love', 246), ('’', 165), ('sheher', 151), ('fan', 140), ('girl', 97), ('like', 89), ('im', 88), ('lover', 84), ('life', 74)] Cluster: 20\n",
      "[('vader', 383), ('man', 201), ('father', 173), ('•', 144), ('echtgenoot', 121), ('fan', 121), ('’', 119), ('jaar', 117), ('trotse', 106), ('2', 105)] Cluster: 0\n",
      "[('business', 263), ('marketing', 247), ('•', 201), ('management', 187), ('manager', 163), ('wij', 156), ('online', 134), ('advies', 126), ('consultant', 119), ('medium', 111)] Cluster: 15\n",
      "[('•', 201), ('natuur', 163), ('’', 132), ('gemeente', 123), ('nieuws', 119), ('vader', 114), ('lid', 102), ('geschiedenis', 100), ('leven', 96), ('jaar', 96)] Cluster: 3\n",
      "[('life', 354), ('love', 247), ('leven', 244), ('’', 127), ('live', 93), ('•', 81), ('dag', 80), ('world', 79), ('thing', 78), ('good', 77)] Cluster: 16\n",
      "[('art', 255), ('•', 184), ('fotografie', 179), ('photography', 165), ('photographer', 161), ('design', 124), ('fotograaf', 123), ('designer', 116), ('natuur', 101), ('fotos', 96)] Cluster: 2\n",
      "[('moeder', 566), ('2', 558), ('3', 367), ('getrouwd', 335), ('vader', 277), ('kinderen', 273), ('dochter', 164), ('kid', 159), ('twee', 156), ('oma', 154)] Cluster: 13\n",
      "[('cycling', 241), ('fietsen', 154), ('sport', 95), ('fietser', 88), ('love', 83), ('•', 81), ('wandelen', 66), ('wielrennen', 66), ('hardlopen', 63), ('fan', 62)] Cluster: 10\n",
      "[('crypto', 222), ('bitcoin', 163), ('trader', 35), ('blockchain', 33), ('since', 29), ('financial', 26), ('’', 26), ('investor', 25), ('money', 24), ('privacy', 21)] Cluster: 19\n",
      "[('journalist', 335), ('nieuws', 262), ('medium', 202), ('•', 202), ('podcast', 131), ('radio', 112), ('politiek', 105), ('tv', 103), ('freelance', 94), ('news', 92)] Cluster: 11\n",
      "[('•', 98), ('͏', 65), ('⠀', 56), ('♡', 54), ('🇳🇱', 41), ('sheher', 20), ('’', 20), ('🇧🇪', 14), ('⟬⟭', 13), ('love', 11)] Cluster: 22\n",
      "[('onderwijs', 309), ('coach', 156), ('•', 140), ('trainer', 116), ('leren', 110), ('mensen', 106), ('student', 105), ('kinderen', 101), ('docent', 94), ('teacher', 91)] Cluster: 14\n"
     ]
    }
   ],
   "source": [
    "from collections import Counter\n",
    "for i in cluster_dict:\n",
    "    wordsList = str(cluster_dict[i]).split()\n",
    "    counters = Counter(wordsList)\n",
    "    most_occur = counters.most_common(10)\n",
    "    print(most_occur, \"Cluster:\",i)"
   ]
  },
  {
   "cell_type": "code",
   "execution_count": 46,
   "id": "78c5bfb2",
   "metadata": {
    "scrolled": true
   },
   "outputs": [
    {
     "data": {
      "image/png": "[encoded data removed]",
      "text/plain": [
       "<Figure size 432x288 with 1 Axes>"
      ]
     },
     "metadata": {},
     "output_type": "display_data"
    }
   ],
   "source": [
    "from sklearn.decomposition import PCA\n",
    "pca = PCA(n_components=2)\n",
    "H = pca.fit_transform(km.cluster_centers_)\n",
    "x = []\n",
    "y = []\n",
    "for i in H:\n",
    "    x.append(i[0])\n",
    "    y.append(i[1])\n",
    "import matplotlib.pyplot as plt\n",
    "\n",
    "fig, ax = plt.subplots()\n",
    "ax.scatter(x, y)\n",
    "\n",
    "for i, _ in enumerate(x):\n",
    "    ax.annotate(i, (x[i], y[i]))"
   ]
  }
 ],
 "metadata": {
  "kernelspec": {
   "display_name": "Python 3",
   "language": "python",
   "name": "python3"
  },
  "language_info": {
   "codemirror_mode": {
    "name": "ipython",
    "version": 3
   },
   "file_extension": ".py",
   "mimetype": "text/x-python",
   "name": "python",
   "nbconvert_exporter": "python",
   "pygments_lexer": "ipython3",
   "version": "3.8.10"
  }
 },
 "nbformat": 4,
 "nbformat_minor": 5
}
