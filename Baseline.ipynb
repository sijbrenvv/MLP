{
 "cells": [
  {
   "cell_type": "code",
   "execution_count": 1,
   "id": "001e0148",
   "metadata": {},
   "outputs": [],
   "source": [
    "#!pip install emoji\n",
    "import pandas as pd\n",
    "import numpy as np\n",
    "import emoji\n",
    "import regex\n",
    "import random\n",
    "import nltk\n",
    "import re\n",
    "import sklearn\n",
    "import string\n",
    "from collections import Counter\n",
    "from sklearn.feature_extraction.text import CountVectorizer\n",
    "from sklearn.cluster import KMeans\n",
    "from sklearn.preprocessing import MinMaxScaler\n",
    "from sklearn.datasets import make_blobs\n",
    "from sklearn.metrics import silhouette_samples, silhouette_score\n",
    "from sklearn.preprocessing import StandardScaler\n",
    "from yellowbrick.cluster import KElbowVisualizer\n",
    "from matplotlib import pyplot as plt\n",
    "import matplotlib.cm as cm\n",
    "import seaborn as sns\n",
    "from sklearn.cluster import MiniBatchKMeans\n",
    "from sklearn.metrics import silhouette_score\n",
    "from sklearn.metrics import silhouette_samples \n",
    "np.random.seed(10)\n",
    "random.seed(10)\n",
    "seed = 10"
   ]
  },
  {
   "cell_type": "code",
   "execution_count": 2,
   "id": "a1e9f116",
   "metadata": {},
   "outputs": [
    {
     "name": "stderr",
     "output_type": "stream",
     "text": [
      "[nltk_data] Downloading package stopwords to\n",
      "[nltk_data]     C:\\Users\\Marti\\AppData\\Roaming\\nltk_data...\n",
      "[nltk_data]   Package stopwords is already up-to-date!\n",
      "[nltk_data] Downloading package wordnet to\n",
      "[nltk_data]     C:\\Users\\Marti\\AppData\\Roaming\\nltk_data...\n",
      "[nltk_data]   Package wordnet is already up-to-date!\n"
     ]
    },
    {
     "data": {
      "text/plain": [
       "True"
      ]
     },
     "execution_count": 2,
     "metadata": {},
     "output_type": "execute_result"
    }
   ],
   "source": [
    "nltk.download('stopwords')\n",
    "nltk.download('wordnet')"
   ]
  },
  {
   "cell_type": "code",
   "execution_count": 3,
   "id": "042e3efd",
   "metadata": {},
   "outputs": [
    {
     "name": "stdout",
     "output_type": "stream",
     "text": [
      "392446\n"
     ]
    }
   ],
   "source": [
    "df = pd.read_csv('data2021.csv')\n",
    "print(len(df))\n",
    "df = df.drop_duplicates(subset=['user_id']) # remove duplicates"
   ]
  },
  {
   "cell_type": "code",
   "execution_count": 4,
   "id": "0d968c65",
   "metadata": {},
   "outputs": [],
   "source": [
    "df.dropna(subset=['user_description'], inplace=True) # remove NaN values"
   ]
  },
  {
   "cell_type": "code",
   "execution_count": 5,
   "id": "8d786d36",
   "metadata": {},
   "outputs": [
    {
     "data": {
      "text/plain": [
       "1         Wiskunde lover, honden freak. 🇮🇱🇹🇭🏁🇩🇪🇭🇺🇳🇱🇷🇸🇸🇽🇸...\n",
       "2         IT ICT IoT || •AgriFoodTech •Biobased •Circula...\n",
       "6         Leesbaar, kroniek van gebeurtenissen in Amsterdam\n",
       "7         Mijn #TOTELTUIN ++ #Noseflutejob ++ Bach on th...\n",
       "8         Columnist https://t.co/eX0BHLeWH2. Boosdrietig...\n",
       "                                ...                        \n",
       "392401    Je suis un 🤖 veillant sur la qualité de l'air ...\n",
       "392414    Voor het meest uitgebreide zakelijke nieuws be...\n",
       "392416    Uitgeverij Historische Verhalen publiceert kor...\n",
       "392422    Dutch,Jewish,single,had a great friend for lif...\n",
       "392442     Gitarist (klassiek) 🎸🎼🎵🎶 en 🖥️🗃️🛠️ 😎 IT-Goeroe 😎\n",
       "Name: user_description, Length: 92363, dtype: object"
      ]
     },
     "execution_count": 5,
     "metadata": {},
     "output_type": "execute_result"
    }
   ],
   "source": [
    "df['user_description']"
   ]
  },
  {
   "cell_type": "code",
   "execution_count": 6,
   "id": "0d98a09d",
   "metadata": {},
   "outputs": [],
   "source": [
    "def give_emoji_free_text(text):\n",
    "    \"\"\"\n",
    "    Description:\n",
    "        Removes emojis from given text (biographies)\n",
    "    Input:\n",
    "        Text as string (biographies)\n",
    "    Output:\n",
    "        Text as string (emoji free biographies)\n",
    "    Example:\n",
    "        >>> give_emoji_free_text('Wiskunde lover, honden freak. 🇮🇱🇹🇭🏁🇩🇪🇭🇺🇳🇱🇷🇸🇸🇽🇸')\n",
    "        'Wiskunde lover, honden freak.'\n",
    "    \"\"\"\n",
    "    emoji_list = [c for c in text if c in emoji.EMOJI_DATA]\n",
    "    clean_text = ' '.join([str for str in text.split() if not any(i in str for i in emoji_list)])\n",
    "    return clean_text\n",
    "\n",
    "def url_free_text(text):\n",
    "    '''\n",
    "    Description:\n",
    "        Removes URLs from given text (biographies)\n",
    "    Input:\n",
    "        Text as string (biographies)\n",
    "    Output:\n",
    "        Text as string (URL free biographies)\n",
    "    Example:\n",
    "        >>> url_free_text('Columnist https://t.co/eX0BHLeWH2. Boosdrietig')\n",
    "        'Columnist Boosdrietig'\n",
    "    '''\n",
    "    text = re.sub(r'http\\S+', '', text)\n",
    "    return text"
   ]
  },
  {
   "cell_type": "code",
   "execution_count": 7,
   "id": "7f725468",
   "metadata": {},
   "outputs": [],
   "source": [
    "from nltk.stem import WordNetLemmatizer\n",
    "from nltk.tokenize import word_tokenize\n",
    "\n",
    "# Apply the give_emoji_free_text function and get biographies free of emojis\n",
    "call_emoji_free = lambda x: give_emoji_free_text(x)\n",
    "\n",
    "wordnet_lemmatizer = WordNetLemmatizer()\n",
    "def preprocessing(bio):\n",
    "    '''\n",
    "    Description:\n",
    "        Preprocesses input text by: removing: punctuation, emojis, URLs, Dutch and English stopwords, \\\n",
    "        tokenisation, lowercasing and lemmatisation.\n",
    "    Input:\n",
    "        Text as string (biographies)\n",
    "    Output:\n",
    "        Text as list (preprocessed biographies)\n",
    "    Example:\n",
    "        >>> preprocessing('Wiskunde lover, honden freak. 🇮🇱🇹🇭🏁🇩🇪🇭🇺🇳🇱🇷🇸🇸🇽🇸')\n",
    "        [wiskunde, lover, honden, freak]\n",
    "    '''\n",
    "    \n",
    "    bio = \"\".join([i for i in bio if i not in (string.punctuation + '•')]) # Remove punctuation\n",
    "    bio = call_emoji_free(bio) # Remove emojis\n",
    "    bio = url_free_text(bio).rstrip() # Remove URLs\n",
    "    bio = word_tokenize(bio, language=\"dutch\") # Tokenise the biography\n",
    "    \n",
    "    bio = [item.lower() for item in bio] # lowercase\n",
    "    \n",
    "    stopwords = nltk.corpus.stopwords.words('dutch')\n",
    "    bio = [i for i in bio if i not in stopwords] # Remove Dutch stopwords\n",
    "    \n",
    "    stopwords = nltk.corpus.stopwords.words('english')\n",
    "    bio = [i for i in bio if i not in stopwords] # Remove English stopwords\n",
    "    \n",
    "    bio = [wordnet_lemmatizer.lemmatize(word) for word in bio] # Lemmatise the biographies\n",
    "    \n",
    "    return bio\n",
    "    "
   ]
  },
  {
   "cell_type": "code",
   "execution_count": 8,
   "id": "27553489",
   "metadata": {},
   "outputs": [],
   "source": [
    "df['preprocessed'] = df['user_description'].apply(preprocessing)\n",
    "\n",
    "# Remove biographies which contain links only\n",
    "df = df[df.astype(str)['preprocessed'] != '[]']"
   ]
  },
  {
   "cell_type": "code",
   "execution_count": 9,
   "id": "27ff7d77",
   "metadata": {},
   "outputs": [
    {
     "data": {
      "text/plain": [
       "1                          [wiskunde, lover, honden, freak]\n",
       "2         [ict, iot, agrifoodtech, biobased, circular, d...\n",
       "6            [leesbaar, kroniek, gebeurtenissen, amsterdam]\n",
       "7         [toteltuin, noseflutejob, bach, sheepdogwhistl...\n",
       "8         [columnist, boosdrietig, vanwege, tweet, jamme...\n",
       "                                ...                        \n",
       "392401    [suis, un, veillant, sur, la, qualité, lair, q...\n",
       "392414    [meest, uitgebreide, zakelijke, nieuws, bezoek...\n",
       "392416    [uitgeverij, historische, verhalen, publiceert...\n",
       "392422    [dutchjewishsinglehad, great, friend, life, po...\n",
       "392442                       [gitarist, klassiek, itgoeroe]\n",
       "Name: preprocessed, Length: 90898, dtype: object"
      ]
     },
     "execution_count": 9,
     "metadata": {},
     "output_type": "execute_result"
    }
   ],
   "source": [
    "df['preprocessed']"
   ]
  },
  {
   "cell_type": "code",
   "execution_count": 18,
   "id": "0e3d1c0c",
   "metadata": {},
   "outputs": [],
   "source": [
    "# Initialize CountVectorizer model and fit features\n",
    "sentences_list =  df['preprocessed'].values\n",
    "sentences = []\n",
    "for i in sentences_list:\n",
    "    detok = \" \".join(i)\n",
    "    sentences.append(detok)\n",
    "vectorizer = CountVectorizer(min_df=0.001)\n",
    "X = vectorizer.fit_transform(sentences)"
   ]
  },
  {
   "cell_type": "code",
   "execution_count": 19,
   "id": "fe97b219",
   "metadata": {},
   "outputs": [
    {
     "data": {
      "text/plain": [
       "(90898, 1340)"
      ]
     },
     "execution_count": 19,
     "metadata": {},
     "output_type": "execute_result"
    }
   ],
   "source": [
    "X.shape"
   ]
  },
  {
   "cell_type": "code",
   "execution_count": 21,
   "id": "a1d86244",
   "metadata": {},
   "outputs": [
    {
     "data": {
      "image/png": "[encoded data removed]",
      "text/plain": [
       "<Figure size 432x288 with 2 Axes>"
      ]
     },
     "metadata": {},
     "output_type": "display_data"
    },
    {
     "data": {
      "text/plain": [
       "<Axes: title={'center': 'Distortion Score Elbow for MiniBatchKMeans Clustering'}, xlabel='k', ylabel='distortion score'>"
      ]
     },
     "execution_count": 21,
     "metadata": {},
     "output_type": "execute_result"
    }
   ],
   "source": [
    "from sklearn.cluster import KMeans\n",
    "from sklearn.preprocessing import MinMaxScaler\n",
    "from sklearn.cluster import MiniBatchKMeans\n",
    "from sklearn.datasets import make_blobs\n",
    "from sklearn.metrics import silhouette_samples, silhouette_score\n",
    "from sklearn.preprocessing import StandardScaler\n",
    "from yellowbrick.cluster import KElbowVisualizer\n",
    "from matplotlib import pyplot as plt\n",
    "import matplotlib.cm as cm\n",
    "import seaborn as sns\n",
    "%matplotlib inline\n",
    "sns.set_style('whitegrid')\n",
    "plt.style.use('fivethirtyeight')\n",
    "\n",
    "from sklearn.cluster import KMeans\n",
    "from sklearn.datasets import make_blobs\n",
    "\n",
    "from yellowbrick.cluster import KElbowVisualizer\n",
    "\n",
    "\n",
    "# Instantiate the clustering model and visualizer\n",
    "model = MiniBatchKMeans(n_init = 3, random_state = seed, batch_size =3172)\n",
    "visualizer = KElbowVisualizer(model, k=(4,50))\n",
    "\n",
    "visualizer.fit(X.toarray())        # Fit the data to the visualizer\n",
    "visualizer.show()        # Finalize and render the figure"
   ]
  },
  {
   "cell_type": "code",
   "execution_count": 22,
   "id": "834af835",
   "metadata": {
    "scrolled": true
   },
   "outputs": [
    {
     "name": "stdout",
     "output_type": "stream",
     "text": [
      "For n_clusters = 5 The average silhouette_score is : 0.09959340633143458\n",
      "For n_clusters = 10 The average silhouette_score is : -0.030954030799467038\n",
      "For n_clusters = 15 The average silhouette_score is : -0.11779453733186789\n",
      "For n_clusters = 20 The average silhouette_score is : -0.041640569807407435\n",
      "For n_clusters = 25 The average silhouette_score is : -0.07925741289945558\n",
      "For n_clusters = 30 The average silhouette_score is : -0.08519027696065712\n",
      "For n_clusters = 35 The average silhouette_score is : -0.1566403844357359\n",
      "For n_clusters = 40 The average silhouette_score is : -0.07293872133256189\n",
      "For n_clusters = 45 The average silhouette_score is : -0.14871616155694906\n",
      "For n_clusters = 50 The average silhouette_score is : -0.0427775353598613\n"
     ]
    }
   ],
   "source": [
    "k = 51\n",
    "for n_clusters in range(5, k, 5):\n",
    "\n",
    "\n",
    "    # Initialize the clusterer with n_clusters value and a random generator\n",
    "    # seed of 10 for reproducibility.\n",
    "    clusterer = MiniBatchKMeans(n_clusters = n_clusters, n_init = 3, random_state = seed, batch_size =3172)\n",
    "    cluster_labels = clusterer.fit_predict(X)\n",
    "\n",
    "    # The silhouette_score gives the average value for all the samples.\n",
    "    # This gives a perspective into the density and separation of the formed\n",
    "    # clusters\n",
    "    silhouette_avg = silhouette_score(X, cluster_labels)\n",
    "    print(\n",
    "        \"For n_clusters =\",\n",
    "        n_clusters,\n",
    "        \"The average silhouette_score is :\",\n",
    "        silhouette_avg,\n",
    "    )\n",
    "\n"
   ]
  },
  {
   "cell_type": "code",
   "execution_count": 37,
   "id": "23c6a9bd",
   "metadata": {},
   "outputs": [],
   "source": [
    "km =KMeans(n_clusters = 5, n_init = 10, random_state=seed) # Initialise the k-means clusterer\n",
    "km = km.fit(X) # Compute k-means clustering"
   ]
  },
  {
   "cell_type": "code",
   "execution_count": 38,
   "id": "b5f23f35",
   "metadata": {},
   "outputs": [],
   "source": [
    "label = km.predict(X) # Compute cluster centers and predict cluster index for each sample"
   ]
  },
  {
   "cell_type": "code",
   "execution_count": 39,
   "id": "f260455f",
   "metadata": {},
   "outputs": [],
   "source": [
    "centers = (km.cluster_centers_)"
   ]
  },
  {
   "cell_type": "code",
   "execution_count": 40,
   "id": "de646bde",
   "metadata": {},
   "outputs": [],
   "source": [
    "# Calculate size of each cluster and group each by biography per cluster\n",
    "cluster_dict = {}\n",
    "freq_dict = {}\n",
    "for count, value in enumerate(sentences):\n",
    "    if label[count] in cluster_dict:\n",
    "        freq_dict[label[count]] += 1\n",
    "        cluster_dict[label[count]] += value\n",
    "    else:\n",
    "        freq_dict[label[count]] = 1\n",
    "        cluster_dict[label[count]] = value"
   ]
  },
  {
   "cell_type": "code",
   "execution_count": 45,
   "id": "2bd1c0de",
   "metadata": {},
   "outputs": [
    {
     "name": "stdout",
     "output_type": "stream",
     "text": [
      "['nieuws', 'vader', 'nederland', 'love', 'politiek', 'leven', 'twitter', 'sport', 'life', 'account'] Cluster: 0 Size: 84391\n",
      "['design', 'art', 'graphic', 'medium', 'architecture', 'music', 'kunst', 'marketing', 'dutch', 'creative'] Cluster: 2 Size: 372\n",
      "['tweet', 'persoonlijke', 'eigen', 'titel', 'dutch', 'personal', 'english', 'som', 'naam', 'sm'] Cluster: 1 Size: 3421\n",
      "['fan', 'account', 'ajax', 'fc', 'love', 'vader', 'sport', 'lover', 'feyenoord', 'psv'] Cluster: 3 Size: 1495\n",
      "['music', 'love', 'lover', 'movie', 'art', 'life', 'photography', 'book', 'nature', 'sport'] Cluster: 4 Size: 1219\n"
     ]
    }
   ],
   "source": [
    "# Print 10 most frequent words per cluster and their size\n",
    "from collections import Counter\n",
    "cluster = {}\n",
    "name_list = []\n",
    "\n",
    "for i in cluster_dict:\n",
    "    wordsList = str(cluster_dict[i]).split()\n",
    "    wordsList = [ x for x in wordsList if x.isalpha() ]\n",
    "    counters = Counter(wordsList)\n",
    "    most_occur = counters.most_common(10)\n",
    "    n_words = []\n",
    "    for word in most_occur:\n",
    "        n_words.append(word[0])\n",
    "        \n",
    "    name_list.append(i)\n",
    "    print(n_words, \"Cluster:\", i, \"Size:\", freq_dict[i])\n",
    "    cluster[i] = n_words[0]"
   ]
  },
  {
   "cell_type": "code",
   "execution_count": 47,
   "id": "1dd82bf7",
   "metadata": {},
   "outputs": [
    {
     "data": {
      "image/png": "[encoded data removed]",
      "text/plain": [
       "<Figure size 432x288 with 1 Axes>"
      ]
     },
     "metadata": {},
     "output_type": "display_data"
    }
   ],
   "source": [
    "# Bar graph with named labels\n",
    "cluster_size = list(freq_dict.values())\n",
    "fig, ax = plt.subplots()\n",
    "\n",
    "ax.barh(np.arange(len(name_list)), cluster_size, align='center')\n",
    "ax.set_yticks(np.arange(len(name_list)), labels=name_list)\n",
    "ax.invert_yaxis()\n",
    "ax.set_xlabel('cluster size')\n",
    "ax.set_title('cluster size per cluster')\n",
    "\n",
    "plt.show()"
   ]
  },
  {
   "cell_type": "code",
   "execution_count": 43,
   "id": "c20e009b",
   "metadata": {},
   "outputs": [],
   "source": [
    "def mbkmeans_clusters(\n",
    "    X, \n",
    "    k, \n",
    "    mb, \n",
    "    print_silhouette_values, \n",
    "):\n",
    "    \"\"\"Generate clusters and print Silhouette metrics using MBKmeans\n",
    "\n",
    "    Args:\n",
    "        X: Matrix of features.\n",
    "        k: Number of clusters.\n",
    "        mb: Size of mini-batches.\n",
    "        print_silhouette_values: Print silhouette values per cluster.\n",
    "\n",
    "    Returns:\n",
    "        Trained clustering model and labels based on X.\n",
    "    \"\"\"\n",
    "    km = KMeans(n_clusters=k, n_init=10, random_state=seed).fit(X)\n",
    "    print(f\"For n_clusters = {k}\")\n",
    "    print(f\"Silhouette coefficient: {silhouette_score(X, km.labels_):0.2f}\")\n",
    "    print(f\"Inertia:{km.inertia_}\")\n",
    "\n",
    "    if print_silhouette_values:\n",
    "        sample_silhouette_values = silhouette_samples(X, km.labels_)\n",
    "        print(f\"Silhouette values:\")\n",
    "        silhouette_values = []\n",
    "        for i in range(k):\n",
    "            cluster_silhouette_values = sample_silhouette_values[km.labels_ == i]\n",
    "            silhouette_values.append(\n",
    "                (\n",
    "                    i,\n",
    "                    cluster_silhouette_values.shape[0],\n",
    "                    cluster_silhouette_values.mean(),\n",
    "                    cluster_silhouette_values.min(),\n",
    "                    cluster_silhouette_values.max(),\n",
    "                )\n",
    "            )\n",
    "        silhouette_values = sorted(\n",
    "            silhouette_values, key=lambda tup: tup[2], reverse=True\n",
    "        )\n",
    "        for s in silhouette_values:\n",
    "            print(\n",
    "                f\"    Cluster {s[0]}: Size:{s[1]} | Avg:{s[2]:.2f} | Min:{s[3]:.2f} | Max: {s[4]:.2f}\"\n",
    "            )\n",
    "    return km, km.labels_"
   ]
  },
  {
   "cell_type": "code",
   "execution_count": 44,
   "id": "4fa24419",
   "metadata": {},
   "outputs": [
    {
     "name": "stdout",
     "output_type": "stream",
     "text": [
      "For n_clusters = 5\n",
      "Silhouette coefficient: 0.12\n",
      "Inertia:364928.62735644775\n",
      "Silhouette values:\n",
      "    Cluster 0: Size:84391 | Avg:0.12 | Min:0.00 | Max: 0.23\n",
      "    Cluster 3: Size:1495 | Avg:0.03 | Min:0.01 | Max: 0.18\n",
      "    Cluster 1: Size:3421 | Avg:-0.01 | Min:-0.05 | Max: 0.14\n",
      "    Cluster 2: Size:372 | Avg:-0.02 | Min:-0.06 | Max: 0.12\n",
      "    Cluster 4: Size:1219 | Avg:-0.03 | Min:-0.08 | Max: 0.14\n"
     ]
    },
    {
     "data": {
      "text/plain": [
       "(KMeans(n_clusters=5, n_init=10, random_state=10),\n",
       " array([0, 2, 0, ..., 0, 0, 0]))"
      ]
     },
     "execution_count": 44,
     "metadata": {},
     "output_type": "execute_result"
    }
   ],
   "source": [
    "mbkmeans_clusters(X, 5, 3172, True)"
   ]
  },
  {
   "cell_type": "code",
   "execution_count": null,
   "id": "662d0c2e",
   "metadata": {},
   "outputs": [],
   "source": []
  }
 ],
 "metadata": {
  "kernelspec": {
   "display_name": "Python 3",
   "language": "python",
   "name": "python3"
  },
  "language_info": {
   "codemirror_mode": {
    "name": "ipython",
    "version": 3
   },
   "file_extension": ".py",
   "mimetype": "text/x-python",
   "name": "python",
   "nbconvert_exporter": "python",
   "pygments_lexer": "ipython3",
   "version": "3.8.8"
  }
 },
 "nbformat": 4,
 "nbformat_minor": 5
}
