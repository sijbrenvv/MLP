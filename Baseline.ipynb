{
 "cells": [
  {
   "cell_type": "code",
   "execution_count": 1,
   "id": "001e0148",
   "metadata": {},
   "outputs": [],
   "source": [
    "#!pip install emoji\n",
    "import pandas as pd\n",
    "import numpy as np\n",
    "import emoji\n",
    "import regex\n",
    "import random\n",
    "import nltk\n",
    "import re\n",
    "import sklearn\n",
    "import string\n",
    "from collections import Counter\n",
    "from sklearn.feature_extraction.text import CountVectorizer\n",
    "from sklearn.cluster import KMeans\n",
    "from sklearn.preprocessing import MinMaxScaler\n",
    "from sklearn.datasets import make_blobs\n",
    "from sklearn.metrics import silhouette_samples, silhouette_score\n",
    "from sklearn.preprocessing import StandardScaler\n",
    "from yellowbrick.cluster import KElbowVisualizer\n",
    "from matplotlib import pyplot as plt\n",
    "import matplotlib.cm as cm\n",
    "import seaborn as sns\n",
    "from sklearn.cluster import MiniBatchKMeans\n",
    "from sklearn.metrics import silhouette_score\n",
    "from sklearn.metrics import silhouette_samples \n",
    "np.random.seed(10)\n",
    "random.seed(10)\n",
    "seed = 10"
   ]
  },
  {
   "cell_type": "code",
   "execution_count": 2,
   "id": "a1e9f116",
   "metadata": {},
   "outputs": [],
   "source": [
    "# nltk.download('stopwords')\n",
    "# nltk.download('wordnet')"
   ]
  },
  {
   "cell_type": "code",
   "execution_count": 3,
   "id": "042e3efd",
   "metadata": {},
   "outputs": [
    {
     "name": "stdout",
     "output_type": "stream",
     "text": [
      "392446\n"
     ]
    }
   ],
   "source": [
    "df = pd.read_csv('data2021.csv')\n",
    "print(len(df))\n",
    "df = df.drop_duplicates(subset=['user_id']) # remove duplicates"
   ]
  },
  {
   "cell_type": "code",
   "execution_count": 4,
   "id": "0d968c65",
   "metadata": {},
   "outputs": [],
   "source": [
    "df.dropna(subset=['user_description'], inplace=True) # remove NaN values"
   ]
  },
  {
   "cell_type": "code",
   "execution_count": 5,
   "id": "8d786d36",
   "metadata": {},
   "outputs": [
    {
     "data": {
      "text/plain": [
       "1         Wiskunde lover, honden freak. 🇮🇱🇹🇭🏁🇩🇪🇭🇺🇳🇱🇷🇸🇸🇽🇸...\n",
       "2         IT ICT IoT || •AgriFoodTech •Biobased •Circula...\n",
       "6         Leesbaar, kroniek van gebeurtenissen in Amsterdam\n",
       "7         Mijn #TOTELTUIN ++ #Noseflutejob ++ Bach on th...\n",
       "8         Columnist https://t.co/eX0BHLeWH2. Boosdrietig...\n",
       "                                ...                        \n",
       "392401    Je suis un 🤖 veillant sur la qualité de l'air ...\n",
       "392414    Voor het meest uitgebreide zakelijke nieuws be...\n",
       "392416    Uitgeverij Historische Verhalen publiceert kor...\n",
       "392422    Dutch,Jewish,single,had a great friend for lif...\n",
       "392442     Gitarist (klassiek) 🎸🎼🎵🎶 en 🖥️🗃️🛠️ 😎 IT-Goeroe 😎\n",
       "Name: user_description, Length: 92363, dtype: object"
      ]
     },
     "execution_count": 5,
     "metadata": {},
     "output_type": "execute_result"
    }
   ],
   "source": [
    "df['user_description']"
   ]
  },
  {
   "cell_type": "code",
   "execution_count": 6,
   "id": "0d98a09d",
   "metadata": {},
   "outputs": [],
   "source": [
    "def give_emoji_free_text(text):\n",
    "    \"\"\"\n",
    "    Description:\n",
    "        Removes emojis from given text (biographies)\n",
    "    Input:\n",
    "        Text as string (biographies)\n",
    "    Output:\n",
    "        Text as string (emoji free biographies)\n",
    "    Example:\n",
    "        >>> give_emoji_free_text('Wiskunde lover, honden freak. 🇮🇱🇹🇭🏁🇩🇪🇭🇺🇳🇱🇷🇸🇸🇽🇸')\n",
    "        'Wiskunde lover, honden freak.'\n",
    "    \"\"\"\n",
    "    emoji_list = [c for c in text if c in emoji.EMOJI_DATA]\n",
    "    clean_text = ' '.join([str for str in text.split() if not any(i in str for i in emoji_list)])\n",
    "    return clean_text\n",
    "\n",
    "def url_free_text(text):\n",
    "    '''\n",
    "    Description:\n",
    "        Removes URLs from given text (biographies)\n",
    "    Input:\n",
    "        Text as string (biographies)\n",
    "    Output:\n",
    "        Text as string (URL free biographies)\n",
    "    Example:\n",
    "        >>> url_free_text('Columnist https://t.co/eX0BHLeWH2. Boosdrietig')\n",
    "        'Columnist Boosdrietig'\n",
    "    '''\n",
    "    text = re.sub(r'http\\S+', '', text)\n",
    "    return text"
   ]
  },
  {
   "cell_type": "code",
   "execution_count": 7,
   "id": "7f725468",
   "metadata": {},
   "outputs": [],
   "source": [
    "from nltk.stem import WordNetLemmatizer\n",
    "from nltk.tokenize import word_tokenize\n",
    "\n",
    "# Apply the give_emoji_free_text function and get biographies free of emojis\n",
    "call_emoji_free = lambda x: give_emoji_free_text(x)\n",
    "\n",
    "wordnet_lemmatizer = WordNetLemmatizer()\n",
    "def preprocessing(bio):\n",
    "    '''\n",
    "    Description:\n",
    "        Preprocesses input text by: removing: punctuation, emojis, URLs, Dutch and English stopwords, \\\n",
    "        tokenisation, lowercasing and lemmatisation.\n",
    "    Input:\n",
    "        Text as string (biographies)\n",
    "    Output:\n",
    "        Text as list (preprocessed biographies)\n",
    "    Example:\n",
    "        >>> preprocessing('Wiskunde lover, honden freak. 🇮🇱🇹🇭🏁🇩🇪🇭🇺🇳🇱🇷🇸🇸🇽🇸')\n",
    "        [wiskunde, lover, honden, freak]\n",
    "    '''\n",
    "    \n",
    "    bio = \"\".join([i for i in bio if i not in (string.punctuation + '•')]) # Remove punctuation\n",
    "    bio = call_emoji_free(bio) # Remove emojis\n",
    "    bio = url_free_text(bio).rstrip() # Remove URLs\n",
    "    bio = word_tokenize(bio, language=\"dutch\") # Tokenise the biography\n",
    "    \n",
    "    bio = [item.lower() for item in bio] # lowercase\n",
    "    \n",
    "    stopwords = nltk.corpus.stopwords.words('dutch')\n",
    "    bio = [i for i in bio if i not in stopwords] # Remove Dutch stopwords\n",
    "    \n",
    "    stopwords = nltk.corpus.stopwords.words('english')\n",
    "    bio = [i for i in bio if i not in stopwords] # Remove English stopwords\n",
    "    \n",
    "    bio = [wordnet_lemmatizer.lemmatize(word) for word in bio] # Lemmatise the biographies\n",
    "    \n",
    "    return bio\n",
    "    "
   ]
  },
  {
   "cell_type": "code",
   "execution_count": 8,
   "id": "27553489",
   "metadata": {},
   "outputs": [],
   "source": [
    "df['preprocessed'] = df['user_description'].apply(preprocessing)\n",
    "\n",
    "# Remove biographies which contain links only\n",
    "df = df[df.astype(str)['preprocessed'] != '[]']"
   ]
  },
  {
   "cell_type": "code",
   "execution_count": 9,
   "id": "27ff7d77",
   "metadata": {},
   "outputs": [
    {
     "data": {
      "text/plain": [
       "1                          [wiskunde, lover, honden, freak]\n",
       "2         [ict, iot, agrifoodtech, biobased, circular, d...\n",
       "6            [leesbaar, kroniek, gebeurtenissen, amsterdam]\n",
       "7         [toteltuin, noseflutejob, bach, sheepdogwhistl...\n",
       "8         [columnist, boosdrietig, vanwege, tweet, jamme...\n",
       "                                ...                        \n",
       "392401    [suis, un, veillant, sur, la, qualité, lair, q...\n",
       "392414    [meest, uitgebreide, zakelijke, nieuws, bezoek...\n",
       "392416    [uitgeverij, historische, verhalen, publiceert...\n",
       "392422    [dutchjewishsinglehad, great, friend, life, po...\n",
       "392442                       [gitarist, klassiek, itgoeroe]\n",
       "Name: preprocessed, Length: 90898, dtype: object"
      ]
     },
     "execution_count": 9,
     "metadata": {},
     "output_type": "execute_result"
    }
   ],
   "source": [
    "df['preprocessed']"
   ]
  },
  {
   "cell_type": "code",
   "execution_count": 10,
   "id": "0e3d1c0c",
   "metadata": {},
   "outputs": [],
   "source": [
    "\n",
    "sentences_list =  df['preprocessed'].values\n",
    "sentences = []\n",
    "for i in sentences_list:\n",
    "    detok = \" \".join(i)\n",
    "    sentences.append(detok)\n",
    "vectorizer = CountVectorizer()\n",
    "X = vectorizer.fit_transform(sentences)\n",
    "\n"
   ]
  },
  {
   "cell_type": "code",
   "execution_count": 11,
   "id": "7a9bc547",
   "metadata": {},
   "outputs": [],
   "source": [
    "\n",
    "%matplotlib inline\n",
    "sns.set_style('whitegrid')\n",
    "plt.style.use('fivethirtyeight')\n",
    "\n",
    "def elbow(min=10,max=25):\n",
    "    ''' \n",
    "    Description:\n",
    "        Computes a graphical visualisation of the Elbow Method given a min and max value for K\n",
    "    Args:\n",
    "        min: Minimal value of K\n",
    "        max: Maximum value of K\n",
    "    Output:\n",
    "        A graphical visualisation of the Elbow Method\n",
    "    '''\n",
    "    Sum_of_squared_distances =[]\n",
    "    K = range(min,max)\n",
    "    for k in K:\n",
    "        km =KMeans(n_clusters =k, n_init = 10, random_state=seed) # Initialise the k-means clusterer\n",
    "        km =km.fit(X) # Compute k-means clustering\n",
    "        Sum_of_squared_distances.append(km.inertia_)\n",
    "\n",
    "    plt.plot(K, Sum_of_squared_distances, 'bx-')\n",
    "    plt.xlabel('k')\n",
    "    plt.ylabel('SSE')\n",
    "    plt.title('Elbow Method For Optimal k')\n",
    "    plt.show()"
   ]
  },
  {
   "cell_type": "code",
   "execution_count": 12,
   "id": "a9c40a85",
   "metadata": {},
   "outputs": [
    {
     "data": {
      "image/png": "[encoded data removed]",
      "text/plain": [
       "<Figure size 432x288 with 1 Axes>"
      ]
     },
     "metadata": {},
     "output_type": "display_data"
    }
   ],
   "source": [
    "elbow(10, 20)"
   ]
  },
  {
   "cell_type": "code",
   "execution_count": 13,
   "id": "834af835",
   "metadata": {},
   "outputs": [
    {
     "name": "stderr",
     "output_type": "stream",
     "text": [
      "C:\\Users\\Marti\\anaconda3\\lib\\site-packages\\sklearn\\cluster\\_kmeans.py:870: FutureWarning: The default value of `n_init` will change from 3 to 'auto' in 1.4. Set the value of `n_init` explicitly to suppress the warning\n",
      "  warnings.warn(\n"
     ]
    },
    {
     "name": "stdout",
     "output_type": "stream",
     "text": [
      "For n_clusters = 50\n",
      "Silhouette coefficient: -0.12\n",
      "Inertia:844975.4584667764\n",
      "Silhouette values:\n",
      "    Cluster 13: Size:2 | Avg:0.54 | Min:0.54 | Max: 0.55\n",
      "    Cluster 0: Size:7 | Avg:0.13 | Min:0.09 | Max: 0.18\n",
      "    Cluster 39: Size:12 | Avg:0.09 | Min:0.06 | Max: 0.14\n",
      "    Cluster 33: Size:3 | Avg:0.06 | Min:-0.02 | Max: 0.13\n",
      "    Cluster 6: Size:360 | Avg:0.01 | Min:-0.06 | Max: 0.07\n",
      "    Cluster 1: Size:1 | Avg:0.00 | Min:0.00 | Max: 0.00\n",
      "    Cluster 2: Size:1 | Avg:0.00 | Min:0.00 | Max: 0.00\n",
      "    Cluster 4: Size:1 | Avg:0.00 | Min:0.00 | Max: 0.00\n",
      "    Cluster 7: Size:1 | Avg:0.00 | Min:0.00 | Max: 0.00\n",
      "    Cluster 8: Size:1 | Avg:0.00 | Min:0.00 | Max: 0.00\n",
      "    Cluster 9: Size:1 | Avg:0.00 | Min:0.00 | Max: 0.00\n",
      "    Cluster 10: Size:1 | Avg:0.00 | Min:0.00 | Max: 0.00\n",
      "    Cluster 11: Size:1 | Avg:0.00 | Min:0.00 | Max: 0.00\n",
      "    Cluster 14: Size:1 | Avg:0.00 | Min:0.00 | Max: 0.00\n",
      "    Cluster 15: Size:1 | Avg:0.00 | Min:0.00 | Max: 0.00\n",
      "    Cluster 16: Size:1 | Avg:0.00 | Min:0.00 | Max: 0.00\n",
      "    Cluster 17: Size:1 | Avg:0.00 | Min:0.00 | Max: 0.00\n",
      "    Cluster 18: Size:1 | Avg:0.00 | Min:0.00 | Max: 0.00\n",
      "    Cluster 20: Size:1 | Avg:0.00 | Min:0.00 | Max: 0.00\n",
      "    Cluster 21: Size:1 | Avg:0.00 | Min:0.00 | Max: 0.00\n",
      "    Cluster 22: Size:1 | Avg:0.00 | Min:0.00 | Max: 0.00\n",
      "    Cluster 23: Size:1 | Avg:0.00 | Min:0.00 | Max: 0.00\n",
      "    Cluster 24: Size:1 | Avg:0.00 | Min:0.00 | Max: 0.00\n",
      "    Cluster 25: Size:1 | Avg:0.00 | Min:0.00 | Max: 0.00\n",
      "    Cluster 26: Size:1 | Avg:0.00 | Min:0.00 | Max: 0.00\n",
      "    Cluster 27: Size:1 | Avg:0.00 | Min:0.00 | Max: 0.00\n",
      "    Cluster 28: Size:1 | Avg:0.00 | Min:0.00 | Max: 0.00\n",
      "    Cluster 29: Size:1 | Avg:0.00 | Min:0.00 | Max: 0.00\n",
      "    Cluster 31: Size:1 | Avg:0.00 | Min:0.00 | Max: 0.00\n",
      "    Cluster 32: Size:1 | Avg:0.00 | Min:0.00 | Max: 0.00\n",
      "    Cluster 35: Size:1 | Avg:0.00 | Min:0.00 | Max: 0.00\n",
      "    Cluster 36: Size:1 | Avg:0.00 | Min:0.00 | Max: 0.00\n",
      "    Cluster 37: Size:1 | Avg:0.00 | Min:0.00 | Max: 0.00\n",
      "    Cluster 38: Size:1 | Avg:0.00 | Min:0.00 | Max: 0.00\n",
      "    Cluster 41: Size:1 | Avg:0.00 | Min:0.00 | Max: 0.00\n",
      "    Cluster 43: Size:1 | Avg:0.00 | Min:0.00 | Max: 0.00\n",
      "    Cluster 44: Size:1 | Avg:0.00 | Min:0.00 | Max: 0.00\n",
      "    Cluster 47: Size:1 | Avg:0.00 | Min:0.00 | Max: 0.00\n",
      "    Cluster 49: Size:1 | Avg:0.00 | Min:0.00 | Max: 0.00\n",
      "    Cluster 34: Size:36 | Avg:-0.02 | Min:-0.18 | Max: 0.16\n",
      "    Cluster 42: Size:7 | Avg:-0.03 | Min:-0.29 | Max: 0.22\n",
      "    Cluster 19: Size:3 | Avg:-0.04 | Min:-0.38 | Max: 0.15\n",
      "    Cluster 5: Size:11 | Avg:-0.06 | Min:-0.17 | Max: 0.09\n",
      "    Cluster 48: Size:2 | Avg:-0.07 | Min:-0.23 | Max: 0.10\n",
      "    Cluster 46: Size:2 | Avg:-0.07 | Min:-0.29 | Max: 0.15\n",
      "    Cluster 3: Size:35 | Avg:-0.08 | Min:-0.26 | Max: 0.05\n",
      "    Cluster 40: Size:7 | Avg:-0.10 | Min:-0.21 | Max: 0.02\n",
      "    Cluster 45: Size:90369 | Avg:-0.12 | Min:-0.37 | Max: -0.00\n",
      "    Cluster 12: Size:6 | Avg:-0.14 | Min:-0.29 | Max: -0.01\n",
      "    Cluster 30: Size:2 | Avg:-0.28 | Min:-0.59 | Max: 0.04\n"
     ]
    }
   ],
   "source": [
    "# adopted from: https://dylancastillo.co/nlp-snippets-cluster-documents-using-word2vec/\n",
    "def mbkmeans_clusters(\n",
    "    X, \n",
    "    k, \n",
    "    mb, \n",
    "    print_silhouette_values, \n",
    "    n_init = 10,\n",
    "):\n",
    "    \"\"\"Generate clusters and print Silhouette metrics using MBKmeans\n",
    "\n",
    "    Args:\n",
    "        X: Matrix of features.\n",
    "        k: Number of clusters.\n",
    "        mb: Size of mini-batches.\n",
    "        print_silhouette_values: Print silhouette values per cluster.\n",
    "\n",
    "    Returns:\n",
    "        Trained clustering model and labels based on X.\n",
    "    \"\"\"\n",
    "    km = MiniBatchKMeans(n_clusters=k, batch_size=mb, random_state=seed).fit(X)\n",
    "    print(f\"For n_clusters = {k}\")\n",
    "    print(f\"Silhouette coefficient: {silhouette_score(X, km.labels_):0.2f}\")\n",
    "    print(f\"Inertia:{km.inertia_}\")\n",
    "\n",
    "    if print_silhouette_values:\n",
    "        sample_silhouette_values = silhouette_samples(X, km.labels_)\n",
    "        print(f\"Silhouette values:\")\n",
    "        silhouette_values = []\n",
    "        for i in range(k):\n",
    "            cluster_silhouette_values = sample_silhouette_values[km.labels_ == i]\n",
    "            silhouette_values.append(\n",
    "                (\n",
    "                    i,\n",
    "                    cluster_silhouette_values.shape[0],\n",
    "                    cluster_silhouette_values.mean(),\n",
    "                    cluster_silhouette_values.min(),\n",
    "                    cluster_silhouette_values.max(),\n",
    "                )\n",
    "            )\n",
    "        silhouette_values = sorted(\n",
    "            silhouette_values, key=lambda tup: tup[2], reverse=True\n",
    "        )\n",
    "        for s in silhouette_values:\n",
    "            print(\n",
    "                f\"    Cluster {s[0]}: Size:{s[1]} | Avg:{s[2]:.2f} | Min:{s[3]:.2f} | Max: {s[4]:.2f}\"\n",
    "            )\n",
    "    return km, km.labels_\n",
    "\n",
    "\n",
    "\n",
    "clustering, cluster_labels = mbkmeans_clusters(\n",
    "    X=X,\n",
    "    k=50,\n",
    "    mb=500,\n",
    "    print_silhouette_values=True,\n",
    ")"
   ]
  },
  {
   "cell_type": "code",
   "execution_count": 14,
   "id": "23c6a9bd",
   "metadata": {},
   "outputs": [],
   "source": [
    "km = KMeans(n_clusters = 13, n_init = 10, random_state=seed) # Initialise the k-means clusterer\n",
    "km = km.fit(X) # Compute k-means clustering"
   ]
  },
  {
   "cell_type": "code",
   "execution_count": 15,
   "id": "b5f23f35",
   "metadata": {},
   "outputs": [],
   "source": [
    "label = km.predict(X) # Compute cluster centers and predict cluster index for each sample"
   ]
  },
  {
   "cell_type": "code",
   "execution_count": 16,
   "id": "f260455f",
   "metadata": {},
   "outputs": [],
   "source": [
    "centers = (km.cluster_centers_)"
   ]
  },
  {
   "cell_type": "code",
   "execution_count": 17,
   "id": "de646bde",
   "metadata": {},
   "outputs": [],
   "source": [
    "cluster_dict = {}\n",
    "freq_dict = {}\n",
    "for count, value in enumerate(sentences):\n",
    "    if label[count] in cluster_dict:\n",
    "        freq_dict[label[count]] += 1\n",
    "        cluster_dict[label[count]] += value\n",
    "    else:\n",
    "        freq_dict[label[count]] = 1\n",
    "        cluster_dict[label[count]] = value"
   ]
  },
  {
   "cell_type": "code",
   "execution_count": 18,
   "id": "2bd1c0de",
   "metadata": {},
   "outputs": [
    {
     "name": "stdout",
     "output_type": "stream",
     "text": [
      "['nieuws', 'vader', 'nederland', 'politiek', 'fan', 'jaar', 'life', 'moeder', 'sport', 'muziek'] Cluster: 6 Size: 79266\n",
      "['tweet', 'persoonlijke', 'titel', 'eigen', 'twittert', 'dutch', 'personal', 'english', 'titeltweet', 'som'] Cluster: 11 Size: 3914\n",
      "['account', 'twitter', 'fan', 'nieuws', 'volg', 'tweet', 'medium', 'officiële', 'nederland', 'personal'] Cluster: 1 Size: 1303\n",
      "['dag', 'elke', 'nieuws', 'per', 'uur', 'iedere', 'gelachen', 'nieuwe', 'wij', 'geleefd'] Cluster: 10 Size: 590\n",
      "['love', 'music', 'life', 'nature', 'animal', 'people', 'fan', 'world', 'live', 'food'] Cluster: 5 Size: 1893\n",
      "['leven', 'geniet', 'laten', 'mensen', 'moeder', 'dingen', 'wereld', 'graag', 'leef', 'muziek'] Cluster: 7 Size: 1466\n",
      "['free', 'speech', 'feel', 'life', 'freedom', 'palestine', 'thinker', 'world', 'spirit', 'right'] Cluster: 3 Size: 406\n",
      "['natuur', 'muziek', 'fotografie', 'cultuur', 'dieren', 'wandelen', 'milieu', 'politiek', 'landschap', 'sport'] Cluster: 2 Size: 1087\n",
      "['gemeente', 'twitteraccount', 'nieuws', 'den', 'politie', 'eenheid', 'account', 'vragen', 'basisteam', 'volg'] Cluster: 12 Size: 909\n",
      "['sport', 'marketing', 'management', 'voetbal', 'research', 'consultant', 'belgische', 'business', 'economics', 'bewegen'] Cluster: 4 Size: 54\n",
      "['work', 'berenschot', 'open', 'universiteit', 'sustainable', 'employability', 'hrm', 'future', 'labour', 'market'] Cluster: 9 Size: 1\n",
      "['history', 'loving', 'dog', 'hugging', 'left', 'handed', 'nearsighted', 'jfk', 'army', 'veteran'] Cluster: 8 Size: 1\n",
      "['geld', 'laatste', 'kunt', 'leeft', 'slechte', 'ander', 'gehoorde', 'vraag', 'thuis', 'verdienen'] Cluster: 0 Size: 8\n"
     ]
    }
   ],
   "source": [
    "from collections import Counter\n",
    "cluster = {}\n",
    "name_list = []\n",
    "\n",
    "for i in cluster_dict:\n",
    "    wordsList = str(cluster_dict[i]).split()\n",
    "    wordsList = [ x for x in wordsList if x.isalpha() ]\n",
    "    counters = Counter(wordsList)\n",
    "    most_occur = counters.most_common(10)\n",
    "    n_words = []\n",
    "    for word in most_occur:\n",
    "        n_words.append(word[0])\n",
    "        \n",
    "    name_list.append(n_words[0])\n",
    "    print(n_words, \"Cluster:\", i, \"Size:\", freq_dict[i])\n",
    "    cluster[i] = n_words[0]"
   ]
  },
  {
   "cell_type": "code",
   "execution_count": 19,
   "id": "1dd82bf7",
   "metadata": {},
   "outputs": [
    {
     "data": {
      "image/png": "[encoded data removed]",
      "text/plain": [
       "<Figure size 432x288 with 1 Axes>"
      ]
     },
     "metadata": {},
     "output_type": "display_data"
    }
   ],
   "source": [
    "cluster_number = list(freq_dict.keys())\n",
    "cluster_size = list(freq_dict.values())\n",
    "\n",
    "fig, ax = plt.subplots()\n",
    "\n",
    "ax.barh(np.arange(len(name_list)), cluster_size, align='center')\n",
    "ax.set_yticks(np.arange(len(name_list)), labels=name_list)\n",
    "ax.invert_yaxis()\n",
    "ax.set_xlabel('cluster size')\n",
    "ax.set_title('cluster size by topic')\n",
    "\n",
    "plt.show()"
   ]
  },
  {
   "cell_type": "code",
   "execution_count": null,
   "id": "f2390b91",
   "metadata": {},
   "outputs": [],
   "source": []
  }
 ],
 "metadata": {
  "kernelspec": {
   "display_name": "Python 3",
   "language": "python",
   "name": "python3"
  },
  "language_info": {
   "codemirror_mode": {
    "name": "ipython",
    "version": 3
   },
   "file_extension": ".py",
   "mimetype": "text/x-python",
   "name": "python",
   "nbconvert_exporter": "python",
   "pygments_lexer": "ipython3",
   "version": "3.8.8"
  }
 },
 "nbformat": 4,
 "nbformat_minor": 5
}
